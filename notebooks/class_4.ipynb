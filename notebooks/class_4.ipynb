{
 "cells": [
  {
   "cell_type": "markdown",
   "id": "8246167e",
   "metadata": {},
   "source": [
    "# Baging, Boosting"
   ]
  },
  {
   "cell_type": "code",
   "execution_count": 19,
   "id": "d4b9226d",
   "metadata": {},
   "outputs": [],
   "source": [
    "import pandas as pd\n",
    "import numpy as np\n",
    "\n",
    "from sklearn.neighbors import  KNeighborsClassifier\n",
    "from sklearn.ensemble import BaggingClassifier, GradientBoostingClassifier\n",
    "\n",
    "from sklearn.model_selection import train_test_split\n",
    "from sklearn.metrics import  accuracy_score"
   ]
  },
  {
   "cell_type": "code",
   "execution_count": 2,
   "id": "ecbae509",
   "metadata": {},
   "outputs": [],
   "source": [
    "dt_heart = pd.read_csv(\"heart.csv\")"
   ]
  },
  {
   "cell_type": "code",
   "execution_count": 16,
   "id": "8ab35a4d",
   "metadata": {},
   "outputs": [],
   "source": [
    "X = dt_heart.drop([\"target\"], axis=1)\n",
    "y = dt_heart['target']\n",
    "\n",
    "X_train, X_test, y_train, y_test = train_test_split(X, y, test_size=0.35)"
   ]
  },
  {
   "cell_type": "markdown",
   "id": "aa1ccb06",
   "metadata": {},
   "source": [
    "## Modelo de control"
   ]
  },
  {
   "cell_type": "code",
   "execution_count": 17,
   "id": "0bedcbcc",
   "metadata": {},
   "outputs": [
    {
     "data": {
      "text/plain": [
       "0.7047353760445683"
      ]
     },
     "execution_count": 17,
     "metadata": {},
     "output_type": "execute_result"
    }
   ],
   "source": [
    "knn_class = KNeighborsClassifier().fit(X_train, y_train)\n",
    "\n",
    "knn_pred = knn_class.predict(X_test)\n",
    "\n",
    "accuracy_score(y_test, knn_pred)"
   ]
  },
  {
   "cell_type": "markdown",
   "id": "1d90cc90",
   "metadata": {},
   "source": [
    "## Bagging"
   ]
  },
  {
   "cell_type": "code",
   "execution_count": 18,
   "id": "4c615cf0",
   "metadata": {},
   "outputs": [
    {
     "data": {
      "text/plain": [
       "0.7688022284122563"
      ]
     },
     "execution_count": 18,
     "metadata": {},
     "output_type": "execute_result"
    }
   ],
   "source": [
    "bag_class = GradientBoostingClassifier(estimator=KNeighborsClassifier(), n_estimators=50).fit(X_train, y_train)\n",
    "\n",
    "bag_pred = bag_class.predict(X_test)\n",
    "\n",
    "accuracy_score(y_test, bag_pred)"
   ]
  },
  {
   "cell_type": "markdown",
   "id": "d0db3db1",
   "metadata": {},
   "source": [
    "## Boosting"
   ]
  },
  {
   "cell_type": "code",
   "execution_count": 20,
   "id": "5bd79e1c",
   "metadata": {},
   "outputs": [
    {
     "data": {
      "text/plain": [
       "0.9637883008356546"
      ]
     },
     "execution_count": 20,
     "metadata": {},
     "output_type": "execute_result"
    }
   ],
   "source": [
    "boost_class = BaggingClassifier(n_estimators=50).fit(X_train, y_train)\n",
    "\n",
    "boost_pred = boost_class.predict(X_test)\n",
    "\n",
    "accuracy_score(y_test, boost_pred)"
   ]
  }
 ],
 "metadata": {
  "kernelspec": {
   "display_name": "Python 3",
   "language": "python",
   "name": "python3"
  },
  "language_info": {
   "codemirror_mode": {
    "name": "ipython",
    "version": 3
   },
   "file_extension": ".py",
   "mimetype": "text/x-python",
   "name": "python",
   "nbconvert_exporter": "python",
   "pygments_lexer": "ipython3",
   "version": "3.8.3"
  }
 },
 "nbformat": 4,
 "nbformat_minor": 5
}
