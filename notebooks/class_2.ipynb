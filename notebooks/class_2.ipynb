{
 "cells": [
  {
   "cell_type": "markdown",
   "id": "bfbbd208",
   "metadata": {},
   "source": [
    "# Regularization: Lasso, Ridge, ElasticNet"
   ]
  },
  {
   "cell_type": "code",
   "execution_count": 26,
   "id": "bcf07bf3",
   "metadata": {},
   "outputs": [],
   "source": [
    "import pandas as pd\n",
    "import numpy as np\n",
    "\n",
    "from sklearn.linear_model import LinearRegression, Lasso, Ridge, ElasticNet\n",
    "from sklearn.model_selection import train_test_split\n",
    "from sklearn.metrics import mean_squared_error"
   ]
  },
  {
   "cell_type": "code",
   "execution_count": 30,
   "id": "bda44325",
   "metadata": {},
   "outputs": [
    {
     "data": {
      "text/html": [
       "<div>\n",
       "<style scoped>\n",
       "    .dataframe tbody tr th:only-of-type {\n",
       "        vertical-align: middle;\n",
       "    }\n",
       "\n",
       "    .dataframe tbody tr th {\n",
       "        vertical-align: top;\n",
       "    }\n",
       "\n",
       "    .dataframe thead th {\n",
       "        text-align: right;\n",
       "    }\n",
       "</style>\n",
       "<table border=\"1\" class=\"dataframe\">\n",
       "  <thead>\n",
       "    <tr style=\"text-align: right;\">\n",
       "      <th></th>\n",
       "      <th>country</th>\n",
       "      <th>rank</th>\n",
       "      <th>score</th>\n",
       "      <th>high</th>\n",
       "      <th>low</th>\n",
       "      <th>gdp</th>\n",
       "      <th>family</th>\n",
       "      <th>lifexp</th>\n",
       "      <th>freedom</th>\n",
       "      <th>generosity</th>\n",
       "      <th>corruption</th>\n",
       "      <th>dystopia</th>\n",
       "    </tr>\n",
       "  </thead>\n",
       "  <tbody>\n",
       "    <tr>\n",
       "      <th>0</th>\n",
       "      <td>Norway</td>\n",
       "      <td>1</td>\n",
       "      <td>7.537</td>\n",
       "      <td>7.594445</td>\n",
       "      <td>7.479556</td>\n",
       "      <td>1.616463</td>\n",
       "      <td>1.533524</td>\n",
       "      <td>0.796667</td>\n",
       "      <td>0.635423</td>\n",
       "      <td>0.362012</td>\n",
       "      <td>0.315964</td>\n",
       "      <td>2.277027</td>\n",
       "    </tr>\n",
       "    <tr>\n",
       "      <th>1</th>\n",
       "      <td>Denmark</td>\n",
       "      <td>2</td>\n",
       "      <td>7.522</td>\n",
       "      <td>7.581728</td>\n",
       "      <td>7.462272</td>\n",
       "      <td>1.482383</td>\n",
       "      <td>1.551122</td>\n",
       "      <td>0.792566</td>\n",
       "      <td>0.626007</td>\n",
       "      <td>0.355280</td>\n",
       "      <td>0.400770</td>\n",
       "      <td>2.313707</td>\n",
       "    </tr>\n",
       "    <tr>\n",
       "      <th>2</th>\n",
       "      <td>Iceland</td>\n",
       "      <td>3</td>\n",
       "      <td>7.504</td>\n",
       "      <td>7.622030</td>\n",
       "      <td>7.385970</td>\n",
       "      <td>1.480633</td>\n",
       "      <td>1.610574</td>\n",
       "      <td>0.833552</td>\n",
       "      <td>0.627163</td>\n",
       "      <td>0.475540</td>\n",
       "      <td>0.153527</td>\n",
       "      <td>2.322715</td>\n",
       "    </tr>\n",
       "    <tr>\n",
       "      <th>3</th>\n",
       "      <td>Switzerland</td>\n",
       "      <td>4</td>\n",
       "      <td>7.494</td>\n",
       "      <td>7.561772</td>\n",
       "      <td>7.426227</td>\n",
       "      <td>1.564980</td>\n",
       "      <td>1.516912</td>\n",
       "      <td>0.858131</td>\n",
       "      <td>0.620071</td>\n",
       "      <td>0.290549</td>\n",
       "      <td>0.367007</td>\n",
       "      <td>2.276716</td>\n",
       "    </tr>\n",
       "    <tr>\n",
       "      <th>4</th>\n",
       "      <td>Finland</td>\n",
       "      <td>5</td>\n",
       "      <td>7.469</td>\n",
       "      <td>7.527542</td>\n",
       "      <td>7.410458</td>\n",
       "      <td>1.443572</td>\n",
       "      <td>1.540247</td>\n",
       "      <td>0.809158</td>\n",
       "      <td>0.617951</td>\n",
       "      <td>0.245483</td>\n",
       "      <td>0.382612</td>\n",
       "      <td>2.430182</td>\n",
       "    </tr>\n",
       "  </tbody>\n",
       "</table>\n",
       "</div>"
      ],
      "text/plain": [
       "       country  rank  score      high       low       gdp    family    lifexp  \\\n",
       "0       Norway     1  7.537  7.594445  7.479556  1.616463  1.533524  0.796667   \n",
       "1      Denmark     2  7.522  7.581728  7.462272  1.482383  1.551122  0.792566   \n",
       "2      Iceland     3  7.504  7.622030  7.385970  1.480633  1.610574  0.833552   \n",
       "3  Switzerland     4  7.494  7.561772  7.426227  1.564980  1.516912  0.858131   \n",
       "4      Finland     5  7.469  7.527542  7.410458  1.443572  1.540247  0.809158   \n",
       "\n",
       "    freedom  generosity  corruption  dystopia  \n",
       "0  0.635423    0.362012    0.315964  2.277027  \n",
       "1  0.626007    0.355280    0.400770  2.313707  \n",
       "2  0.627163    0.475540    0.153527  2.322715  \n",
       "3  0.620071    0.290549    0.367007  2.276716  \n",
       "4  0.617951    0.245483    0.382612  2.430182  "
      ]
     },
     "execution_count": 30,
     "metadata": {},
     "output_type": "execute_result"
    }
   ],
   "source": [
    "dataset = pd.read_csv('felicidad.csv')\n",
    "dataset.head()"
   ]
  },
  {
   "cell_type": "code",
   "execution_count": 9,
   "id": "63737d7a",
   "metadata": {},
   "outputs": [],
   "source": [
    "X = dataset[['gdp', 'family', 'lifexp', 'freedom', 'corruption', 'generosity', 'dystopia']]\n",
    "y = dataset[['score']]"
   ]
  },
  {
   "cell_type": "code",
   "execution_count": 12,
   "id": "69491c5a",
   "metadata": {},
   "outputs": [],
   "source": [
    "X_train, X_test, y_train, y_test = train_test_split(X, y, test_size=0.25, random_state=42)"
   ]
  },
  {
   "cell_type": "code",
   "execution_count": 28,
   "id": "d27cb5ec",
   "metadata": {},
   "outputs": [],
   "source": [
    "modelLinear = LinearRegression().fit(X_train, y_train)\n",
    "y_predict_linear = modelLinear.predict(X_test)\n",
    "\n",
    "modelLasso = Lasso(alpha=0.02).fit(X_train, y_train)\n",
    "y_predict_lasso = modelLasso.predict(X_test)\n",
    "\n",
    "modelRidge = Ridge(alpha=1).fit(X_train, y_train)\n",
    "y_predict_ridge = modelRidge.predict(X_test)\n",
    "\n",
    "modelEN = ElasticNet(alpha=1).fit(X_train, y_train)\n",
    "y_predict_en = modelEN.predict(X_test)"
   ]
  },
  {
   "cell_type": "code",
   "execution_count": 29,
   "id": "7b337613",
   "metadata": {},
   "outputs": [
    {
     "name": "stdout",
     "output_type": "stream",
     "text": [
      "linear 9.893337283086119e-08\n",
      "lasso 0.049605751139829145\n",
      "ridge 0.00565012449996281\n",
      "elasticnet 1.1700551348039314\n",
      "================================\n",
      "coef_lineal [[1.00012843 0.99994621 0.99983515 1.00003428 0.99977126 1.00025981\n",
      "  0.99993814]]\n",
      "================================\n",
      "coef_lasso [1.28921417 0.91969417 0.47686397 0.73297273 0.         0.14245522\n",
      " 0.89965327]\n",
      "================================\n",
      "coef_ridge [[1.07234856 0.97048582 0.85605399 0.87400159 0.68583271 0.73285696\n",
      "  0.96206567]]\n",
      "================================\n",
      "coef_elasticnet [0. 0. 0. 0. 0. 0. 0.]\n"
     ]
    }
   ],
   "source": [
    "print(\"linear\", mean_squared_error(y_test, y_predict_linear))\n",
    "print(\"lasso\", mean_squared_error(y_test, y_predict_lasso))\n",
    "print(\"ridge\", mean_squared_error(y_test, y_predict_ridge))\n",
    "print(\"elasticnet\", mean_squared_error(y_test, y_predict_en))\n",
    "\n",
    "\n",
    "print(\"=\"*32)\n",
    "print(\"coef_lineal\", modelLinear.coef_)\n",
    "print(\"=\"*32)\n",
    "print(\"coef_lasso\", modelLasso.coef_)\n",
    "print(\"=\"*32)\n",
    "print(\"coef_ridge\", modelRidge.coef_)\n",
    "print(\"=\"*32)\n",
    "print(\"coef_elasticnet\", modelEN.coef_)"
   ]
  }
 ],
 "metadata": {
  "kernelspec": {
   "display_name": "Python 3",
   "language": "python",
   "name": "python3"
  },
  "language_info": {
   "codemirror_mode": {
    "name": "ipython",
    "version": 3
   },
   "file_extension": ".py",
   "mimetype": "text/x-python",
   "name": "python",
   "nbconvert_exporter": "python",
   "pygments_lexer": "ipython3",
   "version": "3.8.3"
  }
 },
 "nbformat": 4,
 "nbformat_minor": 5
}
