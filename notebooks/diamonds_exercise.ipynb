{
 "cells": [
  {
   "cell_type": "markdown",
   "id": "8f06211d",
   "metadata": {},
   "source": [
    "# Libraries"
   ]
  },
  {
   "cell_type": "code",
   "execution_count": 1,
   "id": "1dbb91d0",
   "metadata": {},
   "outputs": [],
   "source": [
    "import numpy as np\n",
    "import pandas as pd\n",
    "import matplotlib.pyplot as plt\n",
    "import seaborn as sns\n",
    "\n",
    "import math\n",
    "from typing import List\n",
    "\n",
    "from sklearn.model_selection import train_test_split\n",
    "from sklearn.pipeline import Pipeline\n",
    "from sklearn.preprocessing import OneHotEncoder\n",
    "from sklearn.compose import ColumnTransformer\n",
    "from sklearn.ensemble import GradientBoostingRegressor\n",
    "from statsmodels.regression.linear_model import OLS\n",
    "from statsmodels.regression.quantile_regression import QuantReg\n",
    "\n",
    "from sklearn.metrics import (make_scorer, \n",
    "                             r2_score, \n",
    "                             mean_absolute_error,\n",
    "                             mean_squared_error, \n",
    "                             mean_absolute_percentage_error)\n",
    "\n",
    "import geopandas as gpd"
   ]
  },
  {
   "cell_type": "markdown",
   "id": "fc05d860",
   "metadata": {},
   "source": [
    "# Data loading"
   ]
  },
  {
   "cell_type": "code",
   "execution_count": 2,
   "id": "38f7fe16",
   "metadata": {},
   "outputs": [],
   "source": [
    "data = pd.read_csv(\"diamonds.csv\")\n",
    "data_coords = pd.read_csv(\"coords_diamonds.csv\")"
   ]
  },
  {
   "cell_type": "markdown",
   "id": "5d0081ca",
   "metadata": {},
   "source": [
    "# Data preprocessing"
   ]
  },
  {
   "cell_type": "markdown",
   "id": "bbe0e125",
   "metadata": {},
   "source": [
    "## diamonds"
   ]
  },
  {
   "cell_type": "markdown",
   "id": "5224ab52",
   "metadata": {},
   "source": [
    "Quick view of data:"
   ]
  },
  {
   "cell_type": "code",
   "execution_count": 3,
   "id": "2aba1dc0",
   "metadata": {},
   "outputs": [
    {
     "data": {
      "text/html": [
       "<div>\n",
       "<style scoped>\n",
       "    .dataframe tbody tr th:only-of-type {\n",
       "        vertical-align: middle;\n",
       "    }\n",
       "\n",
       "    .dataframe tbody tr th {\n",
       "        vertical-align: top;\n",
       "    }\n",
       "\n",
       "    .dataframe thead th {\n",
       "        text-align: right;\n",
       "    }\n",
       "</style>\n",
       "<table border=\"1\" class=\"dataframe\">\n",
       "  <thead>\n",
       "    <tr style=\"text-align: right;\">\n",
       "      <th></th>\n",
       "      <th>Unnamed: 0</th>\n",
       "      <th>carat</th>\n",
       "      <th>cut</th>\n",
       "      <th>color</th>\n",
       "      <th>clarity</th>\n",
       "      <th>depth</th>\n",
       "      <th>table</th>\n",
       "      <th>price</th>\n",
       "      <th>x</th>\n",
       "      <th>y</th>\n",
       "      <th>z</th>\n",
       "    </tr>\n",
       "  </thead>\n",
       "  <tbody>\n",
       "    <tr>\n",
       "      <th>0</th>\n",
       "      <td>0</td>\n",
       "      <td>0.23</td>\n",
       "      <td>Ideal</td>\n",
       "      <td>E</td>\n",
       "      <td>SI2</td>\n",
       "      <td>61.5</td>\n",
       "      <td>55.0</td>\n",
       "      <td>326</td>\n",
       "      <td>3.95</td>\n",
       "      <td>3.98</td>\n",
       "      <td>2.43</td>\n",
       "    </tr>\n",
       "    <tr>\n",
       "      <th>1</th>\n",
       "      <td>1</td>\n",
       "      <td>0.21</td>\n",
       "      <td>Premium</td>\n",
       "      <td>E</td>\n",
       "      <td>SI1</td>\n",
       "      <td>59.8</td>\n",
       "      <td>61.0</td>\n",
       "      <td>326</td>\n",
       "      <td>3.89</td>\n",
       "      <td>3.84</td>\n",
       "      <td>2.31</td>\n",
       "    </tr>\n",
       "    <tr>\n",
       "      <th>2</th>\n",
       "      <td>2</td>\n",
       "      <td>0.23</td>\n",
       "      <td>Good</td>\n",
       "      <td>E</td>\n",
       "      <td>VS1</td>\n",
       "      <td>56.9</td>\n",
       "      <td>65.0</td>\n",
       "      <td>327</td>\n",
       "      <td>4.05</td>\n",
       "      <td>4.07</td>\n",
       "      <td>2.31</td>\n",
       "    </tr>\n",
       "    <tr>\n",
       "      <th>3</th>\n",
       "      <td>3</td>\n",
       "      <td>0.29</td>\n",
       "      <td>Premium</td>\n",
       "      <td>I</td>\n",
       "      <td>VS2</td>\n",
       "      <td>62.4</td>\n",
       "      <td>58.0</td>\n",
       "      <td>334</td>\n",
       "      <td>4.20</td>\n",
       "      <td>4.23</td>\n",
       "      <td>2.63</td>\n",
       "    </tr>\n",
       "    <tr>\n",
       "      <th>4</th>\n",
       "      <td>4</td>\n",
       "      <td>0.31</td>\n",
       "      <td>Good</td>\n",
       "      <td>J</td>\n",
       "      <td>SI2</td>\n",
       "      <td>63.3</td>\n",
       "      <td>58.0</td>\n",
       "      <td>335</td>\n",
       "      <td>4.34</td>\n",
       "      <td>4.35</td>\n",
       "      <td>2.75</td>\n",
       "    </tr>\n",
       "  </tbody>\n",
       "</table>\n",
       "</div>"
      ],
      "text/plain": [
       "   Unnamed: 0  carat      cut color clarity  depth  table  price     x     y  \\\n",
       "0           0   0.23    Ideal     E     SI2   61.5   55.0    326  3.95  3.98   \n",
       "1           1   0.21  Premium     E     SI1   59.8   61.0    326  3.89  3.84   \n",
       "2           2   0.23     Good     E     VS1   56.9   65.0    327  4.05  4.07   \n",
       "3           3   0.29  Premium     I     VS2   62.4   58.0    334  4.20  4.23   \n",
       "4           4   0.31     Good     J     SI2   63.3   58.0    335  4.34  4.35   \n",
       "\n",
       "      z  \n",
       "0  2.43  \n",
       "1  2.31  \n",
       "2  2.31  \n",
       "3  2.63  \n",
       "4  2.75  "
      ]
     },
     "execution_count": 3,
     "metadata": {},
     "output_type": "execute_result"
    }
   ],
   "source": [
    "data.head()"
   ]
  },
  {
   "cell_type": "markdown",
   "id": "5fd336dd",
   "metadata": {},
   "source": [
    "Check shape and data types:"
   ]
  },
  {
   "cell_type": "code",
   "execution_count": 4,
   "id": "0c7ee1da",
   "metadata": {},
   "outputs": [
    {
     "name": "stdout",
     "output_type": "stream",
     "text": [
      "(53930, 11)\n"
     ]
    },
    {
     "data": {
      "text/plain": [
       "Unnamed: 0      int64\n",
       "carat         float64\n",
       "cut            object\n",
       "color          object\n",
       "clarity        object\n",
       "depth         float64\n",
       "table         float64\n",
       "price           int64\n",
       "x             float64\n",
       "y             float64\n",
       "z             float64\n",
       "dtype: object"
      ]
     },
     "execution_count": 4,
     "metadata": {},
     "output_type": "execute_result"
    }
   ],
   "source": [
    "print(data.shape)\n",
    "data.dtypes"
   ]
  },
  {
   "cell_type": "markdown",
   "id": "c8e86226",
   "metadata": {},
   "source": [
    "Check if first column (\"Unnamed: 0\") is equal to index"
   ]
  },
  {
   "cell_type": "code",
   "execution_count": 5,
   "id": "e505ed4e",
   "metadata": {},
   "outputs": [
    {
     "data": {
      "text/plain": [
       "True"
      ]
     },
     "execution_count": 5,
     "metadata": {},
     "output_type": "execute_result"
    }
   ],
   "source": [
    "data_first_col = data[\"Unnamed: 0\"]\n",
    "data_index = data.index.to_series()\n",
    "\n",
    "np.allclose(data_first_col, data_index)"
   ]
  },
  {
   "cell_type": "markdown",
   "id": "25da5dff",
   "metadata": {},
   "source": [
    "## coords diamonds"
   ]
  },
  {
   "cell_type": "markdown",
   "id": "6da53b8a",
   "metadata": {},
   "source": [
    "Quick view of data:"
   ]
  },
  {
   "cell_type": "code",
   "execution_count": 6,
   "id": "68247079",
   "metadata": {
    "scrolled": true
   },
   "outputs": [
    {
     "data": {
      "text/html": [
       "<div>\n",
       "<style scoped>\n",
       "    .dataframe tbody tr th:only-of-type {\n",
       "        vertical-align: middle;\n",
       "    }\n",
       "\n",
       "    .dataframe tbody tr th {\n",
       "        vertical-align: top;\n",
       "    }\n",
       "\n",
       "    .dataframe thead th {\n",
       "        text-align: right;\n",
       "    }\n",
       "</style>\n",
       "<table border=\"1\" class=\"dataframe\">\n",
       "  <thead>\n",
       "    <tr style=\"text-align: right;\">\n",
       "      <th></th>\n",
       "      <th>Unnamed: 0</th>\n",
       "      <th>latitude</th>\n",
       "      <th>longitude</th>\n",
       "    </tr>\n",
       "  </thead>\n",
       "  <tbody>\n",
       "    <tr>\n",
       "      <th>0</th>\n",
       "      <td>0</td>\n",
       "      <td>39.8813889</td>\n",
       "      <td>-83.093056</td>\n",
       "    </tr>\n",
       "    <tr>\n",
       "      <th>1</th>\n",
       "      <td>1</td>\n",
       "      <td>33.4150000</td>\n",
       "      <td>-111.548889</td>\n",
       "    </tr>\n",
       "    <tr>\n",
       "      <th>2</th>\n",
       "      <td>2</td>\n",
       "      <td>40.1672222</td>\n",
       "      <td>-105.101389</td>\n",
       "    </tr>\n",
       "    <tr>\n",
       "      <th>3</th>\n",
       "      <td>3</td>\n",
       "      <td>37.3711111</td>\n",
       "      <td>-85.583056</td>\n",
       "    </tr>\n",
       "    <tr>\n",
       "      <th>4</th>\n",
       "      <td>4</td>\n",
       "      <td>48.5394444</td>\n",
       "      <td>-121.745000</td>\n",
       "    </tr>\n",
       "  </tbody>\n",
       "</table>\n",
       "</div>"
      ],
      "text/plain": [
       "   Unnamed: 0    latitude  longitude \n",
       "0           0  39.8813889  -83.093056\n",
       "1           1  33.4150000 -111.548889\n",
       "2           2  40.1672222 -105.101389\n",
       "3           3  37.3711111  -85.583056\n",
       "4           4  48.5394444 -121.745000"
      ]
     },
     "execution_count": 6,
     "metadata": {},
     "output_type": "execute_result"
    }
   ],
   "source": [
    "data_coords.head()"
   ]
  },
  {
   "cell_type": "markdown",
   "id": "68b23b50",
   "metadata": {},
   "source": [
    "Check shape and data types:"
   ]
  },
  {
   "cell_type": "code",
   "execution_count": 7,
   "id": "6cb9bb55",
   "metadata": {},
   "outputs": [
    {
     "name": "stdout",
     "output_type": "stream",
     "text": [
      "(53930, 3)\n"
     ]
    },
    {
     "data": {
      "text/plain": [
       "Unnamed: 0      int64\n",
       "latitude       object\n",
       "longitude     float64\n",
       "dtype: object"
      ]
     },
     "execution_count": 7,
     "metadata": {},
     "output_type": "execute_result"
    }
   ],
   "source": [
    "print(data_coords.shape)\n",
    "data_coords.dtypes # It is an error that \"latitude\" is an object"
   ]
  },
  {
   "cell_type": "markdown",
   "id": "46b945af",
   "metadata": {},
   "source": [
    "Check if first column (\"Unnamed: 0\") is equal to index"
   ]
  },
  {
   "cell_type": "code",
   "execution_count": 8,
   "id": "6a482075",
   "metadata": {},
   "outputs": [
    {
     "data": {
      "text/plain": [
       "True"
      ]
     },
     "execution_count": 8,
     "metadata": {},
     "output_type": "execute_result"
    }
   ],
   "source": [
    "data_coords_first_col = data_coords[\"Unnamed: 0\"]\n",
    "data_coords_index = data_coords.index.to_series()\n",
    "\n",
    "np.allclose(data_coords_first_col, data_coords_index)"
   ]
  },
  {
   "cell_type": "markdown",
   "id": "cf2f71e5",
   "metadata": {},
   "source": [
    "## Delete unnecesary data"
   ]
  },
  {
   "cell_type": "code",
   "execution_count": 9,
   "id": "3a299c25",
   "metadata": {},
   "outputs": [],
   "source": [
    "data = data.drop([\"Unnamed: 0\"], axis=1)\n",
    "data_coords = data_coords.drop([\"Unnamed: 0\"], axis=1)"
   ]
  },
  {
   "cell_type": "markdown",
   "id": "ff0b880d",
   "metadata": {},
   "source": [
    "## Merge dataframes"
   ]
  },
  {
   "cell_type": "code",
   "execution_count": 10,
   "id": "d07383fc",
   "metadata": {},
   "outputs": [],
   "source": [
    "df = pd.merge(data, data_coords, left_index=True, right_index=True)"
   ]
  },
  {
   "cell_type": "code",
   "execution_count": 11,
   "id": "c050bced",
   "metadata": {},
   "outputs": [
    {
     "data": {
      "text/html": [
       "<div>\n",
       "<style scoped>\n",
       "    .dataframe tbody tr th:only-of-type {\n",
       "        vertical-align: middle;\n",
       "    }\n",
       "\n",
       "    .dataframe tbody tr th {\n",
       "        vertical-align: top;\n",
       "    }\n",
       "\n",
       "    .dataframe thead th {\n",
       "        text-align: right;\n",
       "    }\n",
       "</style>\n",
       "<table border=\"1\" class=\"dataframe\">\n",
       "  <thead>\n",
       "    <tr style=\"text-align: right;\">\n",
       "      <th></th>\n",
       "      <th>carat</th>\n",
       "      <th>cut</th>\n",
       "      <th>color</th>\n",
       "      <th>clarity</th>\n",
       "      <th>depth</th>\n",
       "      <th>table</th>\n",
       "      <th>price</th>\n",
       "      <th>x</th>\n",
       "      <th>y</th>\n",
       "      <th>z</th>\n",
       "      <th>latitude</th>\n",
       "      <th>longitude</th>\n",
       "    </tr>\n",
       "  </thead>\n",
       "  <tbody>\n",
       "    <tr>\n",
       "      <th>0</th>\n",
       "      <td>0.23</td>\n",
       "      <td>Ideal</td>\n",
       "      <td>E</td>\n",
       "      <td>SI2</td>\n",
       "      <td>61.5</td>\n",
       "      <td>55.0</td>\n",
       "      <td>326</td>\n",
       "      <td>3.95</td>\n",
       "      <td>3.98</td>\n",
       "      <td>2.43</td>\n",
       "      <td>39.8813889</td>\n",
       "      <td>-83.093056</td>\n",
       "    </tr>\n",
       "    <tr>\n",
       "      <th>1</th>\n",
       "      <td>0.21</td>\n",
       "      <td>Premium</td>\n",
       "      <td>E</td>\n",
       "      <td>SI1</td>\n",
       "      <td>59.8</td>\n",
       "      <td>61.0</td>\n",
       "      <td>326</td>\n",
       "      <td>3.89</td>\n",
       "      <td>3.84</td>\n",
       "      <td>2.31</td>\n",
       "      <td>33.4150000</td>\n",
       "      <td>-111.548889</td>\n",
       "    </tr>\n",
       "    <tr>\n",
       "      <th>2</th>\n",
       "      <td>0.23</td>\n",
       "      <td>Good</td>\n",
       "      <td>E</td>\n",
       "      <td>VS1</td>\n",
       "      <td>56.9</td>\n",
       "      <td>65.0</td>\n",
       "      <td>327</td>\n",
       "      <td>4.05</td>\n",
       "      <td>4.07</td>\n",
       "      <td>2.31</td>\n",
       "      <td>40.1672222</td>\n",
       "      <td>-105.101389</td>\n",
       "    </tr>\n",
       "    <tr>\n",
       "      <th>3</th>\n",
       "      <td>0.29</td>\n",
       "      <td>Premium</td>\n",
       "      <td>I</td>\n",
       "      <td>VS2</td>\n",
       "      <td>62.4</td>\n",
       "      <td>58.0</td>\n",
       "      <td>334</td>\n",
       "      <td>4.20</td>\n",
       "      <td>4.23</td>\n",
       "      <td>2.63</td>\n",
       "      <td>37.3711111</td>\n",
       "      <td>-85.583056</td>\n",
       "    </tr>\n",
       "    <tr>\n",
       "      <th>4</th>\n",
       "      <td>0.31</td>\n",
       "      <td>Good</td>\n",
       "      <td>J</td>\n",
       "      <td>SI2</td>\n",
       "      <td>63.3</td>\n",
       "      <td>58.0</td>\n",
       "      <td>335</td>\n",
       "      <td>4.34</td>\n",
       "      <td>4.35</td>\n",
       "      <td>2.75</td>\n",
       "      <td>48.5394444</td>\n",
       "      <td>-121.745000</td>\n",
       "    </tr>\n",
       "  </tbody>\n",
       "</table>\n",
       "</div>"
      ],
      "text/plain": [
       "   carat      cut color clarity  depth  table  price     x     y     z  \\\n",
       "0   0.23    Ideal     E     SI2   61.5   55.0    326  3.95  3.98  2.43   \n",
       "1   0.21  Premium     E     SI1   59.8   61.0    326  3.89  3.84  2.31   \n",
       "2   0.23     Good     E     VS1   56.9   65.0    327  4.05  4.07  2.31   \n",
       "3   0.29  Premium     I     VS2   62.4   58.0    334  4.20  4.23  2.63   \n",
       "4   0.31     Good     J     SI2   63.3   58.0    335  4.34  4.35  2.75   \n",
       "\n",
       "     latitude  longitude   \n",
       "0  39.8813889  -83.093056  \n",
       "1  33.4150000 -111.548889  \n",
       "2  40.1672222 -105.101389  \n",
       "3  37.3711111  -85.583056  \n",
       "4  48.5394444 -121.745000  "
      ]
     },
     "execution_count": 11,
     "metadata": {},
     "output_type": "execute_result"
    }
   ],
   "source": [
    "df.head()"
   ]
  },
  {
   "cell_type": "markdown",
   "id": "ba8870f9",
   "metadata": {},
   "source": [
    "## Fix \"latitud\" column type"
   ]
  },
  {
   "cell_type": "code",
   "execution_count": 12,
   "id": "35950c89",
   "metadata": {
    "collapsed": true
   },
   "outputs": [
    {
     "ename": "ValueError",
     "evalue": "could not convert string to float: '33q.200088'",
     "output_type": "error",
     "traceback": [
      "\u001b[1;31m---------------------------------------------------------------------------\u001b[0m",
      "\u001b[1;31mValueError\u001b[0m                                Traceback (most recent call last)",
      "\u001b[1;32m<ipython-input-12-0723d5c415fe>\u001b[0m in \u001b[0;36m<module>\u001b[1;34m\u001b[0m\n\u001b[1;32m----> 1\u001b[1;33m \u001b[0mdf\u001b[0m\u001b[1;33m[\u001b[0m\u001b[1;34m'latitude'\u001b[0m\u001b[1;33m]\u001b[0m \u001b[1;33m=\u001b[0m \u001b[0mdf\u001b[0m\u001b[1;33m[\u001b[0m\u001b[1;34m'latitude'\u001b[0m\u001b[1;33m]\u001b[0m\u001b[1;33m.\u001b[0m\u001b[0mastype\u001b[0m\u001b[1;33m(\u001b[0m\u001b[0mfloat\u001b[0m\u001b[1;33m)\u001b[0m \u001b[1;31m# error with '33q.200088' value\u001b[0m\u001b[1;33m\u001b[0m\u001b[1;33m\u001b[0m\u001b[0m\n\u001b[0m",
      "\u001b[1;32mC:\\ProgramData\\Anaconda3\\lib\\site-packages\\pandas\\core\\generic.py\u001b[0m in \u001b[0;36mastype\u001b[1;34m(self, dtype, copy, errors)\u001b[0m\n\u001b[0;32m   6322\u001b[0m         \u001b[1;32melse\u001b[0m\u001b[1;33m:\u001b[0m\u001b[1;33m\u001b[0m\u001b[1;33m\u001b[0m\u001b[0m\n\u001b[0;32m   6323\u001b[0m             \u001b[1;31m# else, only a single dtype is given\u001b[0m\u001b[1;33m\u001b[0m\u001b[1;33m\u001b[0m\u001b[1;33m\u001b[0m\u001b[0m\n\u001b[1;32m-> 6324\u001b[1;33m             \u001b[0mnew_data\u001b[0m \u001b[1;33m=\u001b[0m \u001b[0mself\u001b[0m\u001b[1;33m.\u001b[0m\u001b[0m_mgr\u001b[0m\u001b[1;33m.\u001b[0m\u001b[0mastype\u001b[0m\u001b[1;33m(\u001b[0m\u001b[0mdtype\u001b[0m\u001b[1;33m=\u001b[0m\u001b[0mdtype\u001b[0m\u001b[1;33m,\u001b[0m \u001b[0mcopy\u001b[0m\u001b[1;33m=\u001b[0m\u001b[0mcopy\u001b[0m\u001b[1;33m,\u001b[0m \u001b[0merrors\u001b[0m\u001b[1;33m=\u001b[0m\u001b[0merrors\u001b[0m\u001b[1;33m)\u001b[0m\u001b[1;33m\u001b[0m\u001b[1;33m\u001b[0m\u001b[0m\n\u001b[0m\u001b[0;32m   6325\u001b[0m             \u001b[1;32mreturn\u001b[0m \u001b[0mself\u001b[0m\u001b[1;33m.\u001b[0m\u001b[0m_constructor\u001b[0m\u001b[1;33m(\u001b[0m\u001b[0mnew_data\u001b[0m\u001b[1;33m)\u001b[0m\u001b[1;33m.\u001b[0m\u001b[0m__finalize__\u001b[0m\u001b[1;33m(\u001b[0m\u001b[0mself\u001b[0m\u001b[1;33m,\u001b[0m \u001b[0mmethod\u001b[0m\u001b[1;33m=\u001b[0m\u001b[1;34m\"astype\"\u001b[0m\u001b[1;33m)\u001b[0m\u001b[1;33m\u001b[0m\u001b[1;33m\u001b[0m\u001b[0m\n\u001b[0;32m   6326\u001b[0m \u001b[1;33m\u001b[0m\u001b[0m\n",
      "\u001b[1;32mC:\\ProgramData\\Anaconda3\\lib\\site-packages\\pandas\\core\\internals\\managers.py\u001b[0m in \u001b[0;36mastype\u001b[1;34m(self, dtype, copy, errors)\u001b[0m\n\u001b[0;32m    449\u001b[0m             \u001b[0mcopy\u001b[0m \u001b[1;33m=\u001b[0m \u001b[1;32mFalse\u001b[0m\u001b[1;33m\u001b[0m\u001b[1;33m\u001b[0m\u001b[0m\n\u001b[0;32m    450\u001b[0m \u001b[1;33m\u001b[0m\u001b[0m\n\u001b[1;32m--> 451\u001b[1;33m         return self.apply(\n\u001b[0m\u001b[0;32m    452\u001b[0m             \u001b[1;34m\"astype\"\u001b[0m\u001b[1;33m,\u001b[0m\u001b[1;33m\u001b[0m\u001b[1;33m\u001b[0m\u001b[0m\n\u001b[0;32m    453\u001b[0m             \u001b[0mdtype\u001b[0m\u001b[1;33m=\u001b[0m\u001b[0mdtype\u001b[0m\u001b[1;33m,\u001b[0m\u001b[1;33m\u001b[0m\u001b[1;33m\u001b[0m\u001b[0m\n",
      "\u001b[1;32mC:\\ProgramData\\Anaconda3\\lib\\site-packages\\pandas\\core\\internals\\managers.py\u001b[0m in \u001b[0;36mapply\u001b[1;34m(self, f, align_keys, **kwargs)\u001b[0m\n\u001b[0;32m    350\u001b[0m                 \u001b[0mapplied\u001b[0m \u001b[1;33m=\u001b[0m \u001b[0mb\u001b[0m\u001b[1;33m.\u001b[0m\u001b[0mapply\u001b[0m\u001b[1;33m(\u001b[0m\u001b[0mf\u001b[0m\u001b[1;33m,\u001b[0m \u001b[1;33m**\u001b[0m\u001b[0mkwargs\u001b[0m\u001b[1;33m)\u001b[0m\u001b[1;33m\u001b[0m\u001b[1;33m\u001b[0m\u001b[0m\n\u001b[0;32m    351\u001b[0m             \u001b[1;32melse\u001b[0m\u001b[1;33m:\u001b[0m\u001b[1;33m\u001b[0m\u001b[1;33m\u001b[0m\u001b[0m\n\u001b[1;32m--> 352\u001b[1;33m                 \u001b[0mapplied\u001b[0m \u001b[1;33m=\u001b[0m \u001b[0mgetattr\u001b[0m\u001b[1;33m(\u001b[0m\u001b[0mb\u001b[0m\u001b[1;33m,\u001b[0m \u001b[0mf\u001b[0m\u001b[1;33m)\u001b[0m\u001b[1;33m(\u001b[0m\u001b[1;33m**\u001b[0m\u001b[0mkwargs\u001b[0m\u001b[1;33m)\u001b[0m\u001b[1;33m\u001b[0m\u001b[1;33m\u001b[0m\u001b[0m\n\u001b[0m\u001b[0;32m    353\u001b[0m             \u001b[0mresult_blocks\u001b[0m \u001b[1;33m=\u001b[0m \u001b[0mextend_blocks\u001b[0m\u001b[1;33m(\u001b[0m\u001b[0mapplied\u001b[0m\u001b[1;33m,\u001b[0m \u001b[0mresult_blocks\u001b[0m\u001b[1;33m)\u001b[0m\u001b[1;33m\u001b[0m\u001b[1;33m\u001b[0m\u001b[0m\n\u001b[0;32m    354\u001b[0m \u001b[1;33m\u001b[0m\u001b[0m\n",
      "\u001b[1;32mC:\\ProgramData\\Anaconda3\\lib\\site-packages\\pandas\\core\\internals\\blocks.py\u001b[0m in \u001b[0;36mastype\u001b[1;34m(self, dtype, copy, errors, using_cow)\u001b[0m\n\u001b[0;32m    509\u001b[0m         \u001b[0mvalues\u001b[0m \u001b[1;33m=\u001b[0m \u001b[0mself\u001b[0m\u001b[1;33m.\u001b[0m\u001b[0mvalues\u001b[0m\u001b[1;33m\u001b[0m\u001b[1;33m\u001b[0m\u001b[0m\n\u001b[0;32m    510\u001b[0m \u001b[1;33m\u001b[0m\u001b[0m\n\u001b[1;32m--> 511\u001b[1;33m         \u001b[0mnew_values\u001b[0m \u001b[1;33m=\u001b[0m \u001b[0mastype_array_safe\u001b[0m\u001b[1;33m(\u001b[0m\u001b[0mvalues\u001b[0m\u001b[1;33m,\u001b[0m \u001b[0mdtype\u001b[0m\u001b[1;33m,\u001b[0m \u001b[0mcopy\u001b[0m\u001b[1;33m=\u001b[0m\u001b[0mcopy\u001b[0m\u001b[1;33m,\u001b[0m \u001b[0merrors\u001b[0m\u001b[1;33m=\u001b[0m\u001b[0merrors\u001b[0m\u001b[1;33m)\u001b[0m\u001b[1;33m\u001b[0m\u001b[1;33m\u001b[0m\u001b[0m\n\u001b[0m\u001b[0;32m    512\u001b[0m \u001b[1;33m\u001b[0m\u001b[0m\n\u001b[0;32m    513\u001b[0m         \u001b[0mnew_values\u001b[0m \u001b[1;33m=\u001b[0m \u001b[0mmaybe_coerce_values\u001b[0m\u001b[1;33m(\u001b[0m\u001b[0mnew_values\u001b[0m\u001b[1;33m)\u001b[0m\u001b[1;33m\u001b[0m\u001b[1;33m\u001b[0m\u001b[0m\n",
      "\u001b[1;32mC:\\ProgramData\\Anaconda3\\lib\\site-packages\\pandas\\core\\dtypes\\astype.py\u001b[0m in \u001b[0;36mastype_array_safe\u001b[1;34m(values, dtype, copy, errors)\u001b[0m\n\u001b[0;32m    240\u001b[0m \u001b[1;33m\u001b[0m\u001b[0m\n\u001b[0;32m    241\u001b[0m     \u001b[1;32mtry\u001b[0m\u001b[1;33m:\u001b[0m\u001b[1;33m\u001b[0m\u001b[1;33m\u001b[0m\u001b[0m\n\u001b[1;32m--> 242\u001b[1;33m         \u001b[0mnew_values\u001b[0m \u001b[1;33m=\u001b[0m \u001b[0mastype_array\u001b[0m\u001b[1;33m(\u001b[0m\u001b[0mvalues\u001b[0m\u001b[1;33m,\u001b[0m \u001b[0mdtype\u001b[0m\u001b[1;33m,\u001b[0m \u001b[0mcopy\u001b[0m\u001b[1;33m=\u001b[0m\u001b[0mcopy\u001b[0m\u001b[1;33m)\u001b[0m\u001b[1;33m\u001b[0m\u001b[1;33m\u001b[0m\u001b[0m\n\u001b[0m\u001b[0;32m    243\u001b[0m     \u001b[1;32mexcept\u001b[0m \u001b[1;33m(\u001b[0m\u001b[0mValueError\u001b[0m\u001b[1;33m,\u001b[0m \u001b[0mTypeError\u001b[0m\u001b[1;33m)\u001b[0m\u001b[1;33m:\u001b[0m\u001b[1;33m\u001b[0m\u001b[1;33m\u001b[0m\u001b[0m\n\u001b[0;32m    244\u001b[0m         \u001b[1;31m# e.g. _astype_nansafe can fail on object-dtype of strings\u001b[0m\u001b[1;33m\u001b[0m\u001b[1;33m\u001b[0m\u001b[1;33m\u001b[0m\u001b[0m\n",
      "\u001b[1;32mC:\\ProgramData\\Anaconda3\\lib\\site-packages\\pandas\\core\\dtypes\\astype.py\u001b[0m in \u001b[0;36mastype_array\u001b[1;34m(values, dtype, copy)\u001b[0m\n\u001b[0;32m    185\u001b[0m \u001b[1;33m\u001b[0m\u001b[0m\n\u001b[0;32m    186\u001b[0m     \u001b[1;32melse\u001b[0m\u001b[1;33m:\u001b[0m\u001b[1;33m\u001b[0m\u001b[1;33m\u001b[0m\u001b[0m\n\u001b[1;32m--> 187\u001b[1;33m         \u001b[0mvalues\u001b[0m \u001b[1;33m=\u001b[0m \u001b[0m_astype_nansafe\u001b[0m\u001b[1;33m(\u001b[0m\u001b[0mvalues\u001b[0m\u001b[1;33m,\u001b[0m \u001b[0mdtype\u001b[0m\u001b[1;33m,\u001b[0m \u001b[0mcopy\u001b[0m\u001b[1;33m=\u001b[0m\u001b[0mcopy\u001b[0m\u001b[1;33m)\u001b[0m\u001b[1;33m\u001b[0m\u001b[1;33m\u001b[0m\u001b[0m\n\u001b[0m\u001b[0;32m    188\u001b[0m \u001b[1;33m\u001b[0m\u001b[0m\n\u001b[0;32m    189\u001b[0m     \u001b[1;31m# in pandas we don't store numpy str dtypes, so convert to object\u001b[0m\u001b[1;33m\u001b[0m\u001b[1;33m\u001b[0m\u001b[1;33m\u001b[0m\u001b[0m\n",
      "\u001b[1;32mC:\\ProgramData\\Anaconda3\\lib\\site-packages\\pandas\\core\\dtypes\\astype.py\u001b[0m in \u001b[0;36m_astype_nansafe\u001b[1;34m(arr, dtype, copy, skipna)\u001b[0m\n\u001b[0;32m    136\u001b[0m     \u001b[1;32mif\u001b[0m \u001b[0mcopy\u001b[0m \u001b[1;32mor\u001b[0m \u001b[0mis_object_dtype\u001b[0m\u001b[1;33m(\u001b[0m\u001b[0marr\u001b[0m\u001b[1;33m.\u001b[0m\u001b[0mdtype\u001b[0m\u001b[1;33m)\u001b[0m \u001b[1;32mor\u001b[0m \u001b[0mis_object_dtype\u001b[0m\u001b[1;33m(\u001b[0m\u001b[0mdtype\u001b[0m\u001b[1;33m)\u001b[0m\u001b[1;33m:\u001b[0m\u001b[1;33m\u001b[0m\u001b[1;33m\u001b[0m\u001b[0m\n\u001b[0;32m    137\u001b[0m         \u001b[1;31m# Explicit copy, or required since NumPy can't view from / to object.\u001b[0m\u001b[1;33m\u001b[0m\u001b[1;33m\u001b[0m\u001b[1;33m\u001b[0m\u001b[0m\n\u001b[1;32m--> 138\u001b[1;33m         \u001b[1;32mreturn\u001b[0m \u001b[0marr\u001b[0m\u001b[1;33m.\u001b[0m\u001b[0mastype\u001b[0m\u001b[1;33m(\u001b[0m\u001b[0mdtype\u001b[0m\u001b[1;33m,\u001b[0m \u001b[0mcopy\u001b[0m\u001b[1;33m=\u001b[0m\u001b[1;32mTrue\u001b[0m\u001b[1;33m)\u001b[0m\u001b[1;33m\u001b[0m\u001b[1;33m\u001b[0m\u001b[0m\n\u001b[0m\u001b[0;32m    139\u001b[0m \u001b[1;33m\u001b[0m\u001b[0m\n\u001b[0;32m    140\u001b[0m     \u001b[1;32mreturn\u001b[0m \u001b[0marr\u001b[0m\u001b[1;33m.\u001b[0m\u001b[0mastype\u001b[0m\u001b[1;33m(\u001b[0m\u001b[0mdtype\u001b[0m\u001b[1;33m,\u001b[0m \u001b[0mcopy\u001b[0m\u001b[1;33m=\u001b[0m\u001b[0mcopy\u001b[0m\u001b[1;33m)\u001b[0m\u001b[1;33m\u001b[0m\u001b[1;33m\u001b[0m\u001b[0m\n",
      "\u001b[1;31mValueError\u001b[0m: could not convert string to float: '33q.200088'"
     ]
    }
   ],
   "source": [
    "df['latitude'] = df['latitude'].astype(float) # error with '33q.200088' value"
   ]
  },
  {
   "cell_type": "markdown",
   "id": "ccd14a65",
   "metadata": {},
   "source": [
    "Drop row with error:"
   ]
  },
  {
   "cell_type": "code",
   "execution_count": 13,
   "id": "6d024512",
   "metadata": {},
   "outputs": [],
   "source": [
    "df = df.drop(df[df['latitude'] == '33q.200088'].index)"
   ]
  },
  {
   "cell_type": "markdown",
   "id": "76a07530",
   "metadata": {},
   "source": [
    "Cast column:"
   ]
  },
  {
   "cell_type": "code",
   "execution_count": 14,
   "id": "92bd8220",
   "metadata": {},
   "outputs": [],
   "source": [
    "df['latitude'] = df['latitude'].astype(float)"
   ]
  },
  {
   "cell_type": "code",
   "execution_count": 15,
   "id": "a26fd871",
   "metadata": {},
   "outputs": [
    {
     "data": {
      "text/plain": [
       "carat         float64\n",
       "cut            object\n",
       "color          object\n",
       "clarity        object\n",
       "depth         float64\n",
       "table         float64\n",
       "price           int64\n",
       "x             float64\n",
       "y             float64\n",
       "z             float64\n",
       "latitude      float64\n",
       "longitude     float64\n",
       "dtype: object"
      ]
     },
     "execution_count": 15,
     "metadata": {},
     "output_type": "execute_result"
    }
   ],
   "source": [
    "df.dtypes # Done!"
   ]
  },
  {
   "cell_type": "markdown",
   "id": "bca71e0a",
   "metadata": {},
   "source": [
    "# Exploratory Data Analysis"
   ]
  },
  {
   "cell_type": "code",
   "execution_count": 16,
   "id": "b5e16277",
   "metadata": {},
   "outputs": [],
   "source": [
    "def _numerical_eda(df: pd.DataFrame,\n",
    "                   features: List[str]\n",
    "                  ) -> pd.DataFrame:\n",
    "    \"\"\"\n",
    "    Exploratory data analysis of numerical features\n",
    "    \"\"\"\n",
    "    df = df[features]\n",
    "\n",
    "    len_list = []\n",
    "    null_list = []\n",
    "    prop_null_list = []\n",
    "    mean_list = []\n",
    "    std_list = []\n",
    "    min_list = []\n",
    "    per_1_list = []\n",
    "    per_25_list = []\n",
    "    median_list = []\n",
    "    per_75_list = []\n",
    "    per_99_list = []\n",
    "    max_list = []\n",
    "\n",
    "    for i in features:\n",
    "        len_v = len(df)\n",
    "        len_list.append(len_v)\n",
    "        null_v = df[i].isnull().sum()\n",
    "        null_list.append(null_v)\n",
    "        prop_null_v = null_v/len_v\n",
    "        prop_null_list.append(prop_null_v)\n",
    "        mean_v = np.mean(df[i])\n",
    "        mean_list.append(mean_v)\n",
    "        std_v = np.std(df[i])\n",
    "        std_list.append(std_v)\n",
    "        min_v = np.min(df[i])\n",
    "        min_list.append(min_v)\n",
    "        per_1_v = np.percentile(df[i].dropna(), 1)\n",
    "        per_1_list.append(per_1_v)\n",
    "        per_25_v = np.percentile(df[i].dropna(), 25)\n",
    "        per_25_list.append(per_25_v)\n",
    "        median_v = np.median(df[i].dropna())\n",
    "        median_list.append(median_v)\n",
    "        per_75_v = np.percentile(df[i].dropna(), 75)\n",
    "        per_75_list.append(per_75_v)\n",
    "        per_99_v = np.percentile(df[i].dropna(), 99)\n",
    "        per_99_list.append(per_99_v)\n",
    "        max_v = np.max(df[i])\n",
    "        max_list.append(max_v)\n",
    "\n",
    "    df = pd.DataFrame({\"feature\": features,\n",
    "                       \"n_row\": len_list,\n",
    "                       \"n_col\": len(features),\n",
    "                       \"num_null\": null_list,\n",
    "                       \"prop_null\": prop_null_list,\n",
    "                       \"mean\": mean_list,\n",
    "                       \"std\": std_list,\n",
    "                       \"min\": min_list,\n",
    "                       \"per_1\": per_1_list,\n",
    "                       \"per_25\": per_25_list,\n",
    "                       \"median\": median_list,\n",
    "                       \"per_75\": per_75_list,\n",
    "                       \"per_99\": per_99_list,\n",
    "                       \"max\": max_list\n",
    "                      })    \n",
    "    df  = df.sort_values(by=[\"feature\"])\n",
    "    df = df.reset_index(drop=True)\n",
    "    return df\n",
    "\n",
    "\n",
    "def _categorical_eda(df: pd.DataFrame,\n",
    "                     features: List[str]\n",
    "                    ) -> pd.DataFrame:\n",
    "    \"\"\"\n",
    "    Exploratory data analysis of categorical features\n",
    "    \"\"\"\n",
    "    df = df[features]\n",
    "\n",
    "    len_list = []\n",
    "    null_list = []\n",
    "    prop_null_list = []\n",
    "    category_list = []\n",
    "    num_category_list = []\n",
    "    mode_list = []\n",
    "    mode_count_list = []\n",
    "\n",
    "    for i in features:\n",
    "        len_v = len(df)\n",
    "        len_list.append(len_v)\n",
    "        null_v = df[i].isnull().sum()\n",
    "        null_list.append(null_v)\n",
    "        prop_null_v = null_v/len_v\n",
    "        prop_null_list.append(prop_null_v)\n",
    "        category_v = df[i].unique()\n",
    "        category_list.append(category_v)\n",
    "        num_category_v = len(category_v)\n",
    "        num_category_list.append(num_category_v)\n",
    "        mode_v = df[i].mode()[0]\n",
    "        mode_list.append(mode_v)\n",
    "        mode_count_v = len(df[i][df[i] == mode_v])\n",
    "        mode_count_list.append(mode_count_v)\n",
    "\n",
    "    df = pd.DataFrame({\"feature\": features,\n",
    "                       \"n_row\": len_list,\n",
    "                       \"n_col\": len(features),\n",
    "                       \"num_null\": null_list,\n",
    "                       \"prop_null\": prop_null_list,\n",
    "                       \"num_categories\": num_category_list,\n",
    "                       \"category\": category_list,\n",
    "                       \"mode\": mode_list,\n",
    "                       \"mode_count\": mode_count_list,\n",
    "                      })\n",
    "    df  = df.sort_values(by=[\"feature\"])\n",
    "    df = df.reset_index(drop=True)\n",
    "    return df"
   ]
  },
  {
   "cell_type": "markdown",
   "id": "8282e9a0",
   "metadata": {},
   "source": [
    "## Numerical and Categorical Features"
   ]
  },
  {
   "cell_type": "code",
   "execution_count": 17,
   "id": "75195ed2",
   "metadata": {},
   "outputs": [],
   "source": [
    "numerical_features = list([col for col in df.select_dtypes(['float64', 'int64']).columns])\n",
    "categorical_features = list([col for col in df.select_dtypes('object').columns])"
   ]
  },
  {
   "cell_type": "code",
   "execution_count": 18,
   "id": "6895da5b",
   "metadata": {},
   "outputs": [
    {
     "data": {
      "text/plain": [
       "['carat', 'depth', 'table', 'price', 'x', 'y', 'z', 'latitude', 'longitude ']"
      ]
     },
     "execution_count": 18,
     "metadata": {},
     "output_type": "execute_result"
    }
   ],
   "source": [
    "numerical_features # longitude has an error in its name"
   ]
  },
  {
   "cell_type": "code",
   "execution_count": 19,
   "id": "5614f7f4",
   "metadata": {},
   "outputs": [],
   "source": [
    "# fix longitude column name \n",
    "df = df.rename(columns={'longitude ': 'longitude'})"
   ]
  },
  {
   "cell_type": "code",
   "execution_count": 20,
   "id": "ba950aab",
   "metadata": {},
   "outputs": [],
   "source": [
    "numerical_features = list([col for col in df.select_dtypes(['float64', 'int64']).columns])\n",
    "categorical_features = list([col for col in df.select_dtypes('object').columns])"
   ]
  },
  {
   "cell_type": "code",
   "execution_count": 21,
   "id": "202ce3bb",
   "metadata": {},
   "outputs": [
    {
     "data": {
      "text/plain": [
       "['carat', 'depth', 'table', 'price', 'x', 'y', 'z', 'latitude', 'longitude']"
      ]
     },
     "execution_count": 21,
     "metadata": {},
     "output_type": "execute_result"
    }
   ],
   "source": [
    "numerical_features # Done!"
   ]
  },
  {
   "cell_type": "code",
   "execution_count": 22,
   "id": "d1f36295",
   "metadata": {},
   "outputs": [
    {
     "data": {
      "text/plain": [
       "['cut', 'color', 'clarity']"
      ]
     },
     "execution_count": 22,
     "metadata": {},
     "output_type": "execute_result"
    }
   ],
   "source": [
    "categorical_features"
   ]
  },
  {
   "cell_type": "markdown",
   "id": "f1590b3b",
   "metadata": {},
   "source": [
    "## Descriptive statistics"
   ]
  },
  {
   "cell_type": "code",
   "execution_count": 23,
   "id": "a06659f3",
   "metadata": {},
   "outputs": [
    {
     "data": {
      "text/html": [
       "<div>\n",
       "<style scoped>\n",
       "    .dataframe tbody tr th:only-of-type {\n",
       "        vertical-align: middle;\n",
       "    }\n",
       "\n",
       "    .dataframe tbody tr th {\n",
       "        vertical-align: top;\n",
       "    }\n",
       "\n",
       "    .dataframe thead th {\n",
       "        text-align: right;\n",
       "    }\n",
       "</style>\n",
       "<table border=\"1\" class=\"dataframe\">\n",
       "  <thead>\n",
       "    <tr style=\"text-align: right;\">\n",
       "      <th></th>\n",
       "      <th>feature</th>\n",
       "      <th>n_row</th>\n",
       "      <th>n_col</th>\n",
       "      <th>num_null</th>\n",
       "      <th>prop_null</th>\n",
       "      <th>mean</th>\n",
       "      <th>std</th>\n",
       "      <th>min</th>\n",
       "      <th>per_1</th>\n",
       "      <th>per_25</th>\n",
       "      <th>median</th>\n",
       "      <th>per_75</th>\n",
       "      <th>per_99</th>\n",
       "      <th>max</th>\n",
       "    </tr>\n",
       "  </thead>\n",
       "  <tbody>\n",
       "    <tr>\n",
       "      <th>0</th>\n",
       "      <td>carat</td>\n",
       "      <td>53929</td>\n",
       "      <td>9</td>\n",
       "      <td>0</td>\n",
       "      <td>0.000000</td>\n",
       "      <td>0.797978</td>\n",
       "      <td>0.474035</td>\n",
       "      <td>0.200000</td>\n",
       "      <td>0.240000</td>\n",
       "      <td>0.400000</td>\n",
       "      <td>0.700000</td>\n",
       "      <td>1.040000</td>\n",
       "      <td>2.180000</td>\n",
       "      <td>5.010000</td>\n",
       "    </tr>\n",
       "    <tr>\n",
       "      <th>1</th>\n",
       "      <td>depth</td>\n",
       "      <td>53929</td>\n",
       "      <td>9</td>\n",
       "      <td>2962</td>\n",
       "      <td>0.054924</td>\n",
       "      <td>61.749369</td>\n",
       "      <td>1.432893</td>\n",
       "      <td>43.000000</td>\n",
       "      <td>57.900000</td>\n",
       "      <td>61.000000</td>\n",
       "      <td>61.800000</td>\n",
       "      <td>62.500000</td>\n",
       "      <td>65.600000</td>\n",
       "      <td>79.000000</td>\n",
       "    </tr>\n",
       "    <tr>\n",
       "      <th>2</th>\n",
       "      <td>latitude</td>\n",
       "      <td>53929</td>\n",
       "      <td>9</td>\n",
       "      <td>0</td>\n",
       "      <td>0.000000</td>\n",
       "      <td>38.137444</td>\n",
       "      <td>10.485164</td>\n",
       "      <td>-82.862752</td>\n",
       "      <td>-25.828765</td>\n",
       "      <td>34.147778</td>\n",
       "      <td>39.457778</td>\n",
       "      <td>42.800556</td>\n",
       "      <td>55.603661</td>\n",
       "      <td>72.700000</td>\n",
       "    </tr>\n",
       "    <tr>\n",
       "      <th>3</th>\n",
       "      <td>longitude</td>\n",
       "      <td>53929</td>\n",
       "      <td>9</td>\n",
       "      <td>0</td>\n",
       "      <td>0.000000</td>\n",
       "      <td>-86.693441</td>\n",
       "      <td>39.773049</td>\n",
       "      <td>-173.985008</td>\n",
       "      <td>-126.650000</td>\n",
       "      <td>-112.073333</td>\n",
       "      <td>-87.889167</td>\n",
       "      <td>-78.680278</td>\n",
       "      <td>120.271751</td>\n",
       "      <td>178.017649</td>\n",
       "    </tr>\n",
       "    <tr>\n",
       "      <th>4</th>\n",
       "      <td>price</td>\n",
       "      <td>53929</td>\n",
       "      <td>9</td>\n",
       "      <td>0</td>\n",
       "      <td>0.000000</td>\n",
       "      <td>3933.091769</td>\n",
       "      <td>3989.619402</td>\n",
       "      <td>326.000000</td>\n",
       "      <td>429.000000</td>\n",
       "      <td>950.000000</td>\n",
       "      <td>2401.000000</td>\n",
       "      <td>5325.000000</td>\n",
       "      <td>17378.440000</td>\n",
       "      <td>18823.000000</td>\n",
       "    </tr>\n",
       "    <tr>\n",
       "      <th>5</th>\n",
       "      <td>table</td>\n",
       "      <td>53929</td>\n",
       "      <td>9</td>\n",
       "      <td>0</td>\n",
       "      <td>0.000000</td>\n",
       "      <td>57.457336</td>\n",
       "      <td>2.234577</td>\n",
       "      <td>43.000000</td>\n",
       "      <td>53.000000</td>\n",
       "      <td>56.000000</td>\n",
       "      <td>57.000000</td>\n",
       "      <td>59.000000</td>\n",
       "      <td>64.000000</td>\n",
       "      <td>95.000000</td>\n",
       "    </tr>\n",
       "    <tr>\n",
       "      <th>6</th>\n",
       "      <td>x</td>\n",
       "      <td>53929</td>\n",
       "      <td>9</td>\n",
       "      <td>1090</td>\n",
       "      <td>0.020212</td>\n",
       "      <td>5.730620</td>\n",
       "      <td>1.127572</td>\n",
       "      <td>-6.370000</td>\n",
       "      <td>4.013800</td>\n",
       "      <td>4.710000</td>\n",
       "      <td>5.700000</td>\n",
       "      <td>6.540000</td>\n",
       "      <td>8.360000</td>\n",
       "      <td>10.740000</td>\n",
       "    </tr>\n",
       "    <tr>\n",
       "      <th>7</th>\n",
       "      <td>y</td>\n",
       "      <td>53929</td>\n",
       "      <td>9</td>\n",
       "      <td>585</td>\n",
       "      <td>0.010848</td>\n",
       "      <td>5.733115</td>\n",
       "      <td>1.141865</td>\n",
       "      <td>-6.610000</td>\n",
       "      <td>4.040000</td>\n",
       "      <td>4.720000</td>\n",
       "      <td>5.710000</td>\n",
       "      <td>6.540000</td>\n",
       "      <td>8.340000</td>\n",
       "      <td>58.900000</td>\n",
       "    </tr>\n",
       "    <tr>\n",
       "      <th>8</th>\n",
       "      <td>z</td>\n",
       "      <td>53929</td>\n",
       "      <td>9</td>\n",
       "      <td>0</td>\n",
       "      <td>0.000000</td>\n",
       "      <td>3.538139</td>\n",
       "      <td>0.708909</td>\n",
       "      <td>-4.060000</td>\n",
       "      <td>2.480000</td>\n",
       "      <td>2.910000</td>\n",
       "      <td>3.530000</td>\n",
       "      <td>4.040000</td>\n",
       "      <td>5.150000</td>\n",
       "      <td>31.800000</td>\n",
       "    </tr>\n",
       "  </tbody>\n",
       "</table>\n",
       "</div>"
      ],
      "text/plain": [
       "     feature  n_row  n_col  num_null  prop_null         mean          std  \\\n",
       "0      carat  53929      9         0   0.000000     0.797978     0.474035   \n",
       "1      depth  53929      9      2962   0.054924    61.749369     1.432893   \n",
       "2   latitude  53929      9         0   0.000000    38.137444    10.485164   \n",
       "3  longitude  53929      9         0   0.000000   -86.693441    39.773049   \n",
       "4      price  53929      9         0   0.000000  3933.091769  3989.619402   \n",
       "5      table  53929      9         0   0.000000    57.457336     2.234577   \n",
       "6          x  53929      9      1090   0.020212     5.730620     1.127572   \n",
       "7          y  53929      9       585   0.010848     5.733115     1.141865   \n",
       "8          z  53929      9         0   0.000000     3.538139     0.708909   \n",
       "\n",
       "          min       per_1      per_25       median       per_75        per_99  \\\n",
       "0    0.200000    0.240000    0.400000     0.700000     1.040000      2.180000   \n",
       "1   43.000000   57.900000   61.000000    61.800000    62.500000     65.600000   \n",
       "2  -82.862752  -25.828765   34.147778    39.457778    42.800556     55.603661   \n",
       "3 -173.985008 -126.650000 -112.073333   -87.889167   -78.680278    120.271751   \n",
       "4  326.000000  429.000000  950.000000  2401.000000  5325.000000  17378.440000   \n",
       "5   43.000000   53.000000   56.000000    57.000000    59.000000     64.000000   \n",
       "6   -6.370000    4.013800    4.710000     5.700000     6.540000      8.360000   \n",
       "7   -6.610000    4.040000    4.720000     5.710000     6.540000      8.340000   \n",
       "8   -4.060000    2.480000    2.910000     3.530000     4.040000      5.150000   \n",
       "\n",
       "            max  \n",
       "0      5.010000  \n",
       "1     79.000000  \n",
       "2     72.700000  \n",
       "3    178.017649  \n",
       "4  18823.000000  \n",
       "5     95.000000  \n",
       "6     10.740000  \n",
       "7     58.900000  \n",
       "8     31.800000  "
      ]
     },
     "execution_count": 23,
     "metadata": {},
     "output_type": "execute_result"
    }
   ],
   "source": [
    "_numerical_eda(df, numerical_features)"
   ]
  },
  {
   "cell_type": "code",
   "execution_count": 24,
   "id": "16f2e479",
   "metadata": {
    "scrolled": true
   },
   "outputs": [
    {
     "data": {
      "text/html": [
       "<div>\n",
       "<style scoped>\n",
       "    .dataframe tbody tr th:only-of-type {\n",
       "        vertical-align: middle;\n",
       "    }\n",
       "\n",
       "    .dataframe tbody tr th {\n",
       "        vertical-align: top;\n",
       "    }\n",
       "\n",
       "    .dataframe thead th {\n",
       "        text-align: right;\n",
       "    }\n",
       "</style>\n",
       "<table border=\"1\" class=\"dataframe\">\n",
       "  <thead>\n",
       "    <tr style=\"text-align: right;\">\n",
       "      <th></th>\n",
       "      <th>feature</th>\n",
       "      <th>n_row</th>\n",
       "      <th>n_col</th>\n",
       "      <th>num_null</th>\n",
       "      <th>prop_null</th>\n",
       "      <th>num_categories</th>\n",
       "      <th>category</th>\n",
       "      <th>mode</th>\n",
       "      <th>mode_count</th>\n",
       "    </tr>\n",
       "  </thead>\n",
       "  <tbody>\n",
       "    <tr>\n",
       "      <th>0</th>\n",
       "      <td>clarity</td>\n",
       "      <td>53929</td>\n",
       "      <td>3</td>\n",
       "      <td>0</td>\n",
       "      <td>0.0</td>\n",
       "      <td>30</td>\n",
       "      <td>[SI2, SI1, VS1, VS2, VVS2, VVS1, I1, IF, S?I1,...</td>\n",
       "      <td>SI1</td>\n",
       "      <td>13058</td>\n",
       "    </tr>\n",
       "    <tr>\n",
       "      <th>1</th>\n",
       "      <td>color</td>\n",
       "      <td>53929</td>\n",
       "      <td>3</td>\n",
       "      <td>0</td>\n",
       "      <td>0.0</td>\n",
       "      <td>26</td>\n",
       "      <td>[E, I, J, H, F, G, D, *'E, #F, &amp;G, !H, ?J, #D,...</td>\n",
       "      <td>G</td>\n",
       "      <td>11284</td>\n",
       "    </tr>\n",
       "    <tr>\n",
       "      <th>2</th>\n",
       "      <td>cut</td>\n",
       "      <td>53929</td>\n",
       "      <td>3</td>\n",
       "      <td>0</td>\n",
       "      <td>0.0</td>\n",
       "      <td>26</td>\n",
       "      <td>[Ideal, Premium, Good, Very Good, Fair, Very G...</td>\n",
       "      <td>Ideal</td>\n",
       "      <td>21537</td>\n",
       "    </tr>\n",
       "  </tbody>\n",
       "</table>\n",
       "</div>"
      ],
      "text/plain": [
       "   feature  n_row  n_col  num_null  prop_null  num_categories  \\\n",
       "0  clarity  53929      3         0        0.0              30   \n",
       "1    color  53929      3         0        0.0              26   \n",
       "2      cut  53929      3         0        0.0              26   \n",
       "\n",
       "                                            category   mode  mode_count  \n",
       "0  [SI2, SI1, VS1, VS2, VVS2, VVS1, I1, IF, S?I1,...    SI1       13058  \n",
       "1  [E, I, J, H, F, G, D, *'E, #F, &G, !H, ?J, #D,...      G       11284  \n",
       "2  [Ideal, Premium, Good, Very Good, Fair, Very G...  Ideal       21537  "
      ]
     },
     "execution_count": 24,
     "metadata": {},
     "output_type": "execute_result"
    }
   ],
   "source": [
    "_categorical_eda(df, categorical_features)"
   ]
  },
  {
   "cell_type": "markdown",
   "id": "2216a23e",
   "metadata": {},
   "source": [
    "## Fix Categorical features values"
   ]
  },
  {
   "cell_type": "markdown",
   "id": "1cb172c9",
   "metadata": {},
   "source": [
    "Take a quick look:"
   ]
  },
  {
   "cell_type": "code",
   "execution_count": 25,
   "id": "f3dbd9cc",
   "metadata": {},
   "outputs": [
    {
     "data": {
      "text/plain": [
       "clarity\n",
       "SI1       13058\n",
       "VS2       12249\n",
       "SI2        9188\n",
       "VS1        8164\n",
       "VVS2       5062\n",
       "VVS1       3653\n",
       "IF         1790\n",
       "I1          741\n",
       "VS?1          2\n",
       "&VS2          2\n",
       "VV?S1         1\n",
       "S&I1          1\n",
       "*'SI1         1\n",
       "V#S2          1\n",
       "SI?1          1\n",
       "VV#S1         1\n",
       "VVS*'2        1\n",
       "#SI!1         1\n",
       "*'SI2         1\n",
       "#VS1          1\n",
       "VS#2          1\n",
       "!VS2          1\n",
       "V!S2          1\n",
       "V&S2          1\n",
       "S*'I2         1\n",
       "S*'I1         1\n",
       "&SI2          1\n",
       "SI!1          1\n",
       "S?I1          1\n",
       "S!I2          1\n",
       "Name: count, dtype: int64"
      ]
     },
     "execution_count": 25,
     "metadata": {},
     "output_type": "execute_result"
    }
   ],
   "source": [
    "df['clarity'].value_counts()"
   ]
  },
  {
   "cell_type": "code",
   "execution_count": 26,
   "id": "9b99a0aa",
   "metadata": {},
   "outputs": [
    {
     "data": {
      "text/plain": [
       "color\n",
       "G      11284\n",
       "E       9789\n",
       "F       9535\n",
       "H       8301\n",
       "D       6773\n",
       "I       5417\n",
       "J       2805\n",
       "*'E        3\n",
       "?J         2\n",
       "!E         2\n",
       "&G         2\n",
       "#F         2\n",
       "!F         1\n",
       "*'I        1\n",
       "?E         1\n",
       "#G         1\n",
       "&F         1\n",
       "*'F        1\n",
       "&I         1\n",
       "?H         1\n",
       "#H         1\n",
       "?G         1\n",
       "!I         1\n",
       "#D         1\n",
       "!H         1\n",
       "&E         1\n",
       "Name: count, dtype: int64"
      ]
     },
     "execution_count": 26,
     "metadata": {},
     "output_type": "execute_result"
    }
   ],
   "source": [
    "df['color'].value_counts()"
   ]
  },
  {
   "cell_type": "code",
   "execution_count": 27,
   "id": "96ed2470",
   "metadata": {},
   "outputs": [
    {
     "data": {
      "text/plain": [
       "cut\n",
       "Ideal          21537\n",
       "Premium        13782\n",
       "Very Good      12076\n",
       "Good            4900\n",
       "Fair            1609\n",
       "P?remium           2\n",
       "*'Ideal            2\n",
       "Go?od              2\n",
       "Ide&al             2\n",
       "Id!eal             1\n",
       "&Ideal             1\n",
       "V&ery Good         1\n",
       "Ide*'al            1\n",
       "Very *'Good        1\n",
       "G#ood              1\n",
       "&Premium           1\n",
       "Pr?emium           1\n",
       "Ide!al             1\n",
       "Very Go#od         1\n",
       "Pre!mium           1\n",
       "!Good              1\n",
       "#Very Good         1\n",
       "I#deal             1\n",
       "P*'remium          1\n",
       "Very Goo!d         1\n",
       "Very G#ood         1\n",
       "Name: count, dtype: int64"
      ]
     },
     "execution_count": 27,
     "metadata": {},
     "output_type": "execute_result"
    }
   ],
   "source": [
    "df['cut'].value_counts()"
   ]
  },
  {
   "cell_type": "markdown",
   "id": "807a4c08",
   "metadata": {},
   "source": [
    "The problem is special characters in those strings. Let's fix it:"
   ]
  },
  {
   "cell_type": "code",
   "execution_count": 28,
   "id": "61f2e7d9",
   "metadata": {},
   "outputs": [],
   "source": [
    "df['clarity'] = df['clarity'].str.replace('[^a-zA-Z0-9]', '', regex=True)\n",
    "df['color'] = df['color'].str.replace('[^a-zA-Z0-9]', '', regex=True)\n",
    "df['cut'] = df['cut'].str.replace('[^a-zA-Z0-9]', '', regex=True)"
   ]
  },
  {
   "cell_type": "code",
   "execution_count": 29,
   "id": "6b2f64d8",
   "metadata": {},
   "outputs": [
    {
     "data": {
      "text/html": [
       "<div>\n",
       "<style scoped>\n",
       "    .dataframe tbody tr th:only-of-type {\n",
       "        vertical-align: middle;\n",
       "    }\n",
       "\n",
       "    .dataframe tbody tr th {\n",
       "        vertical-align: top;\n",
       "    }\n",
       "\n",
       "    .dataframe thead th {\n",
       "        text-align: right;\n",
       "    }\n",
       "</style>\n",
       "<table border=\"1\" class=\"dataframe\">\n",
       "  <thead>\n",
       "    <tr style=\"text-align: right;\">\n",
       "      <th></th>\n",
       "      <th>feature</th>\n",
       "      <th>n_row</th>\n",
       "      <th>n_col</th>\n",
       "      <th>num_null</th>\n",
       "      <th>prop_null</th>\n",
       "      <th>num_categories</th>\n",
       "      <th>category</th>\n",
       "      <th>mode</th>\n",
       "      <th>mode_count</th>\n",
       "    </tr>\n",
       "  </thead>\n",
       "  <tbody>\n",
       "    <tr>\n",
       "      <th>0</th>\n",
       "      <td>clarity</td>\n",
       "      <td>53929</td>\n",
       "      <td>3</td>\n",
       "      <td>0</td>\n",
       "      <td>0.0</td>\n",
       "      <td>8</td>\n",
       "      <td>[SI2, SI1, VS1, VS2, VVS2, VVS1, I1, IF]</td>\n",
       "      <td>SI1</td>\n",
       "      <td>13065</td>\n",
       "    </tr>\n",
       "    <tr>\n",
       "      <th>1</th>\n",
       "      <td>color</td>\n",
       "      <td>53929</td>\n",
       "      <td>3</td>\n",
       "      <td>0</td>\n",
       "      <td>0.0</td>\n",
       "      <td>7</td>\n",
       "      <td>[E, I, J, H, F, G, D]</td>\n",
       "      <td>G</td>\n",
       "      <td>11288</td>\n",
       "    </tr>\n",
       "    <tr>\n",
       "      <th>2</th>\n",
       "      <td>cut</td>\n",
       "      <td>53929</td>\n",
       "      <td>3</td>\n",
       "      <td>0</td>\n",
       "      <td>0.0</td>\n",
       "      <td>5</td>\n",
       "      <td>[Ideal, Premium, Good, VeryGood, Fair]</td>\n",
       "      <td>Ideal</td>\n",
       "      <td>21546</td>\n",
       "    </tr>\n",
       "  </tbody>\n",
       "</table>\n",
       "</div>"
      ],
      "text/plain": [
       "   feature  n_row  n_col  num_null  prop_null  num_categories  \\\n",
       "0  clarity  53929      3         0        0.0               8   \n",
       "1    color  53929      3         0        0.0               7   \n",
       "2      cut  53929      3         0        0.0               5   \n",
       "\n",
       "                                   category   mode  mode_count  \n",
       "0  [SI2, SI1, VS1, VS2, VVS2, VVS1, I1, IF]    SI1       13065  \n",
       "1                     [E, I, J, H, F, G, D]      G       11288  \n",
       "2    [Ideal, Premium, Good, VeryGood, Fair]  Ideal       21546  "
      ]
     },
     "execution_count": 29,
     "metadata": {},
     "output_type": "execute_result"
    }
   ],
   "source": [
    "_categorical_eda(df, categorical_features) # awesome!"
   ]
  },
  {
   "cell_type": "code",
   "execution_count": 30,
   "id": "5bb6f6c9",
   "metadata": {
    "scrolled": true
   },
   "outputs": [
    {
     "data": {
      "text/plain": [
       "clarity\n",
       "SI1     13065\n",
       "VS2     12256\n",
       "SI2      9192\n",
       "VS1      8167\n",
       "VVS2     5063\n",
       "VVS1     3655\n",
       "IF       1790\n",
       "I1        741\n",
       "Name: count, dtype: int64"
      ]
     },
     "execution_count": 30,
     "metadata": {},
     "output_type": "execute_result"
    }
   ],
   "source": [
    "df['clarity'].value_counts()"
   ]
  },
  {
   "cell_type": "code",
   "execution_count": 31,
   "id": "9acb5445",
   "metadata": {},
   "outputs": [
    {
     "data": {
      "text/plain": [
       "color\n",
       "G    11288\n",
       "E     9796\n",
       "F     9540\n",
       "H     8304\n",
       "D     6774\n",
       "I     5420\n",
       "J     2807\n",
       "Name: count, dtype: int64"
      ]
     },
     "execution_count": 31,
     "metadata": {},
     "output_type": "execute_result"
    }
   ],
   "source": [
    "df['color'].value_counts()"
   ]
  },
  {
   "cell_type": "code",
   "execution_count": 32,
   "id": "796d1579",
   "metadata": {},
   "outputs": [
    {
     "data": {
      "text/plain": [
       "cut\n",
       "Ideal       21546\n",
       "Premium     13788\n",
       "VeryGood    12082\n",
       "Good         4904\n",
       "Fair         1609\n",
       "Name: count, dtype: int64"
      ]
     },
     "execution_count": 32,
     "metadata": {},
     "output_type": "execute_result"
    }
   ],
   "source": [
    "df['cut'].value_counts()"
   ]
  },
  {
   "cell_type": "markdown",
   "id": "b76f81bf",
   "metadata": {},
   "source": [
    "## Histograms and Boxplots"
   ]
  },
  {
   "cell_type": "code",
   "execution_count": 33,
   "id": "6d5d7906",
   "metadata": {},
   "outputs": [],
   "source": [
    "def _plt_histogram(df: pd.DataFrame,\n",
    "                   features: List[str]\n",
    "                  ):\n",
    "    \"\"\"\n",
    "    Plot a histogram for every numerical column in features argument\n",
    "    \"\"\"\n",
    "    df[features].hist(figsize=(10, 8))\n",
    "    plt.tight_layout()\n",
    "    plt.show()\n",
    "    \n",
    "def _plt_boxplot(df: pd.DataFrame,\n",
    "                 features: List[str]\n",
    "                ):\n",
    "    \"\"\"\n",
    "    Plot a boxplot for every numerical column in features argument\n",
    "    \"\"\"\n",
    "    k = _plt_boxplot_grid(features)\n",
    "    plt.figure(figsize=(10, k*10))\n",
    "    \n",
    "    props_dict = {'linewidth': 2,\n",
    "                  'color': '#2773B2'\n",
    "                 }\n",
    "    \n",
    "    for n, ticker in enumerate(features):\n",
    "        ax = plt.subplot(k*3, 3, n + 1)\n",
    "\n",
    "        df[[ticker]].boxplot(boxprops=props_dict,\n",
    "                             medianprops=props_dict,\n",
    "                             whiskerprops=props_dict,\n",
    "                             capprops=props_dict\n",
    "                            )\n",
    "    plt.tight_layout()\n",
    "    plt.show()\n",
    "\n",
    "def _plt_boxplot_grid(features):    \n",
    "    return math.ceil(len(features)/3)"
   ]
  },
  {
   "cell_type": "markdown",
   "id": "a232c83d",
   "metadata": {},
   "source": [
    "Histogram:"
   ]
  },
  {
   "cell_type": "code",
   "execution_count": 34,
   "id": "b0bcbe6b",
   "metadata": {},
   "outputs": [
    {
     "data": {
      "image/png": "[encoded data removed]",
      "text/plain": [
       "<Figure size 720x576 with 9 Axes>"
      ]
     },
     "metadata": {
      "needs_background": "light"
     },
     "output_type": "display_data"
    }
   ],
   "source": [
    "_plt_histogram(df, numerical_features)"
   ]
  },
  {
   "cell_type": "markdown",
   "id": "669ba547",
   "metadata": {},
   "source": [
    "Boxplot:"
   ]
  },
  {
   "cell_type": "code",
   "execution_count": 35,
   "id": "7e06bf01",
   "metadata": {},
   "outputs": [
    {
     "data": {
      "image/png": "[encoded data removed]",
      "text/plain": [
       "<Figure size 720x2160 with 9 Axes>"
      ]
     },
     "metadata": {
      "needs_background": "light"
     },
     "output_type": "display_data"
    }
   ],
   "source": [
    "_plt_boxplot(df, numerical_features)"
   ]
  },
  {
   "cell_type": "markdown",
   "id": "7a3c33a7",
   "metadata": {},
   "source": [
    "## Outliers"
   ]
  },
  {
   "cell_type": "markdown",
   "id": "af7a6ecb",
   "metadata": {},
   "source": [
    "Both histograms and boxplots show that there are some outliers. Let's delete some of them with tukey rule:"
   ]
  },
  {
   "cell_type": "code",
   "execution_count": 36,
   "id": "3b5e0fdd",
   "metadata": {},
   "outputs": [],
   "source": [
    "def _label_outliers(df: pd.DataFrame,\n",
    "                    numerical_features: List[str]\n",
    "                   ) -> pd.DataFrame:\n",
    "    \"\"\"\n",
    "    Perform tukey method for outliers in every numerical_feature\n",
    "    \"\"\"\n",
    "    for feature in numerical_features:\n",
    "        df_outliers = _label_outliers_tukey(df, feature, f'outlier_{feature}')\n",
    "    return df_outliers\n",
    "\n",
    "def _label_outliers_tukey(df: pd.DataFrame,\n",
    "                          column: str,\n",
    "                          outlier_column: str\n",
    "                         ) -> pd.DataFrame:\n",
    "    \"\"\"\n",
    "    Perform tukey method to identify outliers\n",
    "    \"\"\"\n",
    "    q1 = df[column].quantile(0.25)\n",
    "    q3 = df[column].quantile(0.75)\n",
    "    iqr = q3 - q1\n",
    "    \n",
    "    lower_bound = q1 - 1.5 * iqr\n",
    "    upper_bound = q3 + 1.5 * iqr\n",
    "    \n",
    "    df[outlier_column] = np.where((df[column] < lower_bound) | (df[column] > upper_bound), True, False)\n",
    "    return df"
   ]
  },
  {
   "cell_type": "code",
   "execution_count": 37,
   "id": "e6c690ad",
   "metadata": {},
   "outputs": [],
   "source": [
    "df_out = _label_outliers(df, numerical_features)"
   ]
  },
  {
   "cell_type": "code",
   "execution_count": 38,
   "id": "9c24d445",
   "metadata": {},
   "outputs": [
    {
     "data": {
      "text/plain": [
       "0.8828459641380333"
      ]
     },
     "execution_count": 38,
     "metadata": {},
     "output_type": "execute_result"
    }
   ],
   "source": [
    "_query = \"outlier_carat == False and outlier_price == False and outlier_depth == False and outlier_table == False and outlier_x == False and outlier_y == False and outlier_z == False\"\n",
    "\n",
    "df_no_outliers = df_out.query(_query)\n",
    "\n",
    "per_data_with_no_outlier = (df_no_outliers.shape[0])/(df.shape[0])\n",
    "per_data_with_no_outlier"
   ]
  },
  {
   "cell_type": "code",
   "execution_count": 39,
   "id": "c777ed3c",
   "metadata": {},
   "outputs": [
    {
     "data": {
      "image/png": "[encoded data removed]",
      "text/plain": [
       "<Figure size 720x576 with 9 Axes>"
      ]
     },
     "metadata": {
      "needs_background": "light"
     },
     "output_type": "display_data"
    }
   ],
   "source": [
    "_plt_histogram(df_no_outliers, numerical_features)"
   ]
  },
  {
   "cell_type": "code",
   "execution_count": 40,
   "id": "cb53e951",
   "metadata": {},
   "outputs": [
    {
     "data": {
      "image/png": "[encoded data removed]",
      "text/plain": [
       "<Figure size 720x2160 with 9 Axes>"
      ]
     },
     "metadata": {
      "needs_background": "light"
     },
     "output_type": "display_data"
    }
   ],
   "source": [
    "_plt_boxplot(df_no_outliers, numerical_features)"
   ]
  },
  {
   "cell_type": "code",
   "execution_count": 41,
   "id": "5d3f1c92",
   "metadata": {},
   "outputs": [],
   "source": [
    "df = df_no_outliers[numerical_features + categorical_features]"
   ]
  },
  {
   "cell_type": "markdown",
   "id": "ec89dd91",
   "metadata": {},
   "source": [
    "Even when 12% of data is lost, the distributions have less bias, which is great for built models"
   ]
  },
  {
   "cell_type": "markdown",
   "id": "7b19841c",
   "metadata": {},
   "source": [
    "## Correlation"
   ]
  },
  {
   "cell_type": "markdown",
   "id": "1eaeb1ba",
   "metadata": {},
   "source": [
    "Scatter plot:"
   ]
  },
  {
   "cell_type": "code",
   "execution_count": 42,
   "id": "64864881",
   "metadata": {},
   "outputs": [
    {
     "data": {
      "text/html": [
       "<div>\n",
       "<style scoped>\n",
       "    .dataframe tbody tr th:only-of-type {\n",
       "        vertical-align: middle;\n",
       "    }\n",
       "\n",
       "    .dataframe tbody tr th {\n",
       "        vertical-align: top;\n",
       "    }\n",
       "\n",
       "    .dataframe thead th {\n",
       "        text-align: right;\n",
       "    }\n",
       "</style>\n",
       "<table border=\"1\" class=\"dataframe\">\n",
       "  <thead>\n",
       "    <tr style=\"text-align: right;\">\n",
       "      <th></th>\n",
       "      <th>carat</th>\n",
       "      <th>depth</th>\n",
       "      <th>table</th>\n",
       "      <th>price</th>\n",
       "      <th>x</th>\n",
       "      <th>y</th>\n",
       "      <th>z</th>\n",
       "      <th>latitude</th>\n",
       "      <th>longitude</th>\n",
       "    </tr>\n",
       "  </thead>\n",
       "  <tbody>\n",
       "    <tr>\n",
       "      <th>carat</th>\n",
       "      <td>1.000000</td>\n",
       "      <td>0.035497</td>\n",
       "      <td>0.187554</td>\n",
       "      <td>0.922608</td>\n",
       "      <td>0.986239</td>\n",
       "      <td>0.985385</td>\n",
       "      <td>0.984879</td>\n",
       "      <td>-0.002727</td>\n",
       "      <td>0.005006</td>\n",
       "    </tr>\n",
       "    <tr>\n",
       "      <th>depth</th>\n",
       "      <td>0.035497</td>\n",
       "      <td>1.000000</td>\n",
       "      <td>-0.239933</td>\n",
       "      <td>0.005761</td>\n",
       "      <td>-0.011007</td>\n",
       "      <td>-0.012764</td>\n",
       "      <td>0.092158</td>\n",
       "      <td>-0.001036</td>\n",
       "      <td>-0.001699</td>\n",
       "    </tr>\n",
       "    <tr>\n",
       "      <th>table</th>\n",
       "      <td>0.187554</td>\n",
       "      <td>-0.239933</td>\n",
       "      <td>1.000000</td>\n",
       "      <td>0.136779</td>\n",
       "      <td>0.187094</td>\n",
       "      <td>0.181224</td>\n",
       "      <td>0.159105</td>\n",
       "      <td>0.000561</td>\n",
       "      <td>0.005028</td>\n",
       "    </tr>\n",
       "    <tr>\n",
       "      <th>price</th>\n",
       "      <td>0.922608</td>\n",
       "      <td>0.005761</td>\n",
       "      <td>0.136779</td>\n",
       "      <td>1.000000</td>\n",
       "      <td>0.899739</td>\n",
       "      <td>0.900735</td>\n",
       "      <td>0.896064</td>\n",
       "      <td>-0.002246</td>\n",
       "      <td>0.005298</td>\n",
       "    </tr>\n",
       "    <tr>\n",
       "      <th>x</th>\n",
       "      <td>0.986239</td>\n",
       "      <td>-0.011007</td>\n",
       "      <td>0.187094</td>\n",
       "      <td>0.899739</td>\n",
       "      <td>1.000000</td>\n",
       "      <td>0.998526</td>\n",
       "      <td>0.993216</td>\n",
       "      <td>-0.002733</td>\n",
       "      <td>0.003895</td>\n",
       "    </tr>\n",
       "    <tr>\n",
       "      <th>y</th>\n",
       "      <td>0.985385</td>\n",
       "      <td>-0.012764</td>\n",
       "      <td>0.181224</td>\n",
       "      <td>0.900735</td>\n",
       "      <td>0.998526</td>\n",
       "      <td>1.000000</td>\n",
       "      <td>0.992978</td>\n",
       "      <td>-0.002381</td>\n",
       "      <td>0.004170</td>\n",
       "    </tr>\n",
       "    <tr>\n",
       "      <th>z</th>\n",
       "      <td>0.984879</td>\n",
       "      <td>0.092158</td>\n",
       "      <td>0.159105</td>\n",
       "      <td>0.896064</td>\n",
       "      <td>0.993216</td>\n",
       "      <td>0.992978</td>\n",
       "      <td>1.000000</td>\n",
       "      <td>-0.001553</td>\n",
       "      <td>0.004146</td>\n",
       "    </tr>\n",
       "    <tr>\n",
       "      <th>latitude</th>\n",
       "      <td>-0.002727</td>\n",
       "      <td>-0.001036</td>\n",
       "      <td>0.000561</td>\n",
       "      <td>-0.002246</td>\n",
       "      <td>-0.002733</td>\n",
       "      <td>-0.002381</td>\n",
       "      <td>-0.001553</td>\n",
       "      <td>1.000000</td>\n",
       "      <td>-0.377155</td>\n",
       "    </tr>\n",
       "    <tr>\n",
       "      <th>longitude</th>\n",
       "      <td>0.005006</td>\n",
       "      <td>-0.001699</td>\n",
       "      <td>0.005028</td>\n",
       "      <td>0.005298</td>\n",
       "      <td>0.003895</td>\n",
       "      <td>0.004170</td>\n",
       "      <td>0.004146</td>\n",
       "      <td>-0.377155</td>\n",
       "      <td>1.000000</td>\n",
       "    </tr>\n",
       "  </tbody>\n",
       "</table>\n",
       "</div>"
      ],
      "text/plain": [
       "              carat     depth     table     price         x         y  \\\n",
       "carat      1.000000  0.035497  0.187554  0.922608  0.986239  0.985385   \n",
       "depth      0.035497  1.000000 -0.239933  0.005761 -0.011007 -0.012764   \n",
       "table      0.187554 -0.239933  1.000000  0.136779  0.187094  0.181224   \n",
       "price      0.922608  0.005761  0.136779  1.000000  0.899739  0.900735   \n",
       "x          0.986239 -0.011007  0.187094  0.899739  1.000000  0.998526   \n",
       "y          0.985385 -0.012764  0.181224  0.900735  0.998526  1.000000   \n",
       "z          0.984879  0.092158  0.159105  0.896064  0.993216  0.992978   \n",
       "latitude  -0.002727 -0.001036  0.000561 -0.002246 -0.002733 -0.002381   \n",
       "longitude  0.005006 -0.001699  0.005028  0.005298  0.003895  0.004170   \n",
       "\n",
       "                  z  latitude  longitude  \n",
       "carat      0.984879 -0.002727   0.005006  \n",
       "depth      0.092158 -0.001036  -0.001699  \n",
       "table      0.159105  0.000561   0.005028  \n",
       "price      0.896064 -0.002246   0.005298  \n",
       "x          0.993216 -0.002733   0.003895  \n",
       "y          0.992978 -0.002381   0.004170  \n",
       "z          1.000000 -0.001553   0.004146  \n",
       "latitude  -0.001553  1.000000  -0.377155  \n",
       "longitude  0.004146 -0.377155   1.000000  "
      ]
     },
     "execution_count": 42,
     "metadata": {},
     "output_type": "execute_result"
    }
   ],
   "source": [
    "corr_matrix = df[numerical_features].corr()\n",
    "corr_matrix"
   ]
  },
  {
   "cell_type": "code",
   "execution_count": 43,
   "id": "9bac7a0a",
   "metadata": {},
   "outputs": [
    {
     "data": {
      "image/png": "[encoded data removed]",
      "text/plain": [
       "<Figure size 432x288 with 1 Axes>"
      ]
     },
     "metadata": {},
     "output_type": "display_data"
    }
   ],
   "source": [
    "sns.set(style='darkgrid', palette='colorblind')\n",
    "sns.scatterplot(x='carat', y='price', data=df)\n",
    "plt.show()"
   ]
  },
  {
   "cell_type": "markdown",
   "id": "46042d62",
   "metadata": {},
   "source": [
    "- carat is the feature that has the higher linear positive correlation with target (price)\n",
    "- the features: x, y, z, have a high linear correlation with target but also with carat, so multicollinearity exists\n",
    "- the features: depth, table, latitude, longitude, have a low linear correlation with target\n",
    "\n",
    "Taking into account the above, it is decided to work only with \"carat\" as numerical feature to create models"
   ]
  },
  {
   "cell_type": "markdown",
   "id": "b1260fed",
   "metadata": {},
   "source": [
    "## Categorical analysis"
   ]
  },
  {
   "cell_type": "code",
   "execution_count": 44,
   "id": "01e4d68c",
   "metadata": {},
   "outputs": [],
   "source": [
    "def _sns_grouped_boxplot(df: pd.DataFrame,\n",
    "                         numerical_feature: str,\n",
    "                         group_feature: str\n",
    "                        ):\n",
    "    \"\"\"\n",
    "    Plot grouped boxplot\n",
    "    \"\"\"\n",
    "    my_plot = sns.boxplot(x=group_feature,\n",
    "                          y=numerical_feature,\n",
    "                          data=df,\n",
    "                          palette=\"Blues\",\n",
    "                          hue=group_feature,\n",
    "                          legend=False                      \n",
    "                         )\n",
    "    plt.xticks(fontsize=9)\n",
    "\n",
    "    plt.tight_layout()\n",
    "    plt.show()"
   ]
  },
  {
   "cell_type": "code",
   "execution_count": 45,
   "id": "8f290b80",
   "metadata": {
    "scrolled": true
   },
   "outputs": [
    {
     "data": {
      "image/png": "[encoded data removed]",
      "text/plain": [
       "<Figure size 432x288 with 1 Axes>"
      ]
     },
     "metadata": {},
     "output_type": "display_data"
    }
   ],
   "source": [
    "_sns_grouped_boxplot(df, 'price', 'cut')"
   ]
  },
  {
   "cell_type": "code",
   "execution_count": 46,
   "id": "475bd030",
   "metadata": {
    "scrolled": false
   },
   "outputs": [
    {
     "data": {
      "image/png": "[encoded data removed]",
      "text/plain": [
       "<Figure size 432x288 with 1 Axes>"
      ]
     },
     "metadata": {},
     "output_type": "display_data"
    }
   ],
   "source": [
    "_sns_grouped_boxplot(df, 'price', 'clarity')"
   ]
  },
  {
   "cell_type": "code",
   "execution_count": 47,
   "id": "f7ca1046",
   "metadata": {
    "scrolled": false
   },
   "outputs": [
    {
     "data": {
      "image/png": "[encoded data removed]",
      "text/plain": [
       "<Figure size 432x288 with 1 Axes>"
      ]
     },
     "metadata": {},
     "output_type": "display_data"
    }
   ],
   "source": [
    "_sns_grouped_boxplot(df, 'price', 'color')"
   ]
  },
  {
   "cell_type": "markdown",
   "id": "5f57473d",
   "metadata": {},
   "source": [
    "Categorical features seem to have no influence in target variable"
   ]
  },
  {
   "cell_type": "markdown",
   "id": "f5ab326d",
   "metadata": {},
   "source": [
    "# Built Models"
   ]
  },
  {
   "cell_type": "markdown",
   "id": "11c7c4ed",
   "metadata": {},
   "source": [
    "## Train, Test split"
   ]
  },
  {
   "cell_type": "code",
   "execution_count": 48,
   "id": "35f27e1b",
   "metadata": {},
   "outputs": [],
   "source": [
    "X = df.drop([\"price\"], axis=1)\n",
    "y = df[['price']]\n",
    "\n",
    "X_train, X_test, y_train, y_test = train_test_split(X, y, test_size=0.25, random_state=7)"
   ]
  },
  {
   "cell_type": "markdown",
   "id": "1ae498d8",
   "metadata": {},
   "source": [
    "## Transform features"
   ]
  },
  {
   "cell_type": "code",
   "execution_count": 49,
   "id": "66e41063",
   "metadata": {},
   "outputs": [],
   "source": [
    "def _transform_features(X_train: pd.DataFrame,\n",
    "                        X_test: pd.DataFrame,\n",
    "                        y_train: pd.DataFrame,\n",
    "                        y_test: pd.DataFrame,\n",
    "                        numerical_features: List[str],\n",
    "                        categorical_features: List[str]\n",
    "                       ):\n",
    "    \"\"\"\n",
    "    Apply transformations to train and test sets\n",
    "    \"\"\"\n",
    "    categorical_transformer = Pipeline(\n",
    "        steps=[(\"one_hot\", OneHotEncoder(drop =\"first\"))]\n",
    "    )\n",
    "\n",
    "    preprocessor = ColumnTransformer(\n",
    "        transformers=[('num', 'passthrough', numerical_features),\n",
    "                      (\"cat\", categorical_transformer, categorical_features)]\n",
    "    )\n",
    "\n",
    "    clf_t = Pipeline(\n",
    "        steps=[(\"preprocessor\", preprocessor)]\n",
    "    )\n",
    "    \n",
    "    # transformer\n",
    "    clf_t.fit(X_train)\n",
    "    \n",
    "    # train\n",
    "    mat_train = clf_t.transform(X_train).toarray()\n",
    "    X_train_t = pd.DataFrame(mat_train, columns = clf_t.get_feature_names_out(), index=X_train.index)\n",
    "\n",
    "    # test\n",
    "    mat_test = clf_t.transform(X_test).toarray()\n",
    "    X_test_t = pd.DataFrame(mat_test, columns = clf_t.get_feature_names_out(), index=X_test.index)\n",
    "    \n",
    "    return X_train_t, X_test_t, y_train, y_test, clf_t"
   ]
  },
  {
   "cell_type": "code",
   "execution_count": 50,
   "id": "5703ba14",
   "metadata": {},
   "outputs": [],
   "source": [
    "numerical_features = ['carat']\n",
    "categorical_features = ['cut', \"clarity\", 'color']\n",
    "X_train_t, X_test_t, y_train, y_test, clf_t = _transform_features(X_train, X_test, y_train, y_test, numerical_features, categorical_features)"
   ]
  },
  {
   "cell_type": "markdown",
   "id": "8838ce31",
   "metadata": {},
   "source": [
    "## Linear regression"
   ]
  },
  {
   "cell_type": "code",
   "execution_count": 51,
   "id": "8393dd49",
   "metadata": {},
   "outputs": [
    {
     "name": "stdout",
     "output_type": "stream",
     "text": [
      "                                 OLS Regression Results                                \n",
      "=======================================================================================\n",
      "Dep. Variable:                  price   R-squared (uncentered):                   0.959\n",
      "Model:                            OLS   Adj. R-squared (uncentered):              0.959\n",
      "Method:                 Least Squares   F-statistic:                          4.590e+04\n",
      "Date:                Fri, 12 Jan 2024   Prob (F-statistic):                        0.00\n",
      "Time:                        16:35:50   Log-Likelihood:                     -2.9117e+05\n",
      "No. Observations:               35708   AIC:                                  5.824e+05\n",
      "Df Residuals:                   35690   BIC:                                  5.825e+05\n",
      "Df Model:                          18                                                  \n",
      "Covariance Type:            nonrobust                                                  \n",
      "=====================================================================================\n",
      "                        coef    std err          t      P>|t|      [0.025      0.975]\n",
      "-------------------------------------------------------------------------------------\n",
      "num__carat         7591.7172     13.324    569.782      0.000    7565.602    7617.832\n",
      "cat__cut_Good     -2453.0503     39.495    -62.110      0.000   -2530.462   -2375.639\n",
      "cat__cut_Ideal    -2235.6128     37.054    -60.334      0.000   -2308.239   -2162.987\n",
      "cat__cut_Premium  -2325.0468     37.436    -62.106      0.000   -2398.423   -2251.670\n",
      "cat__cut_VeryGood -2322.5248     37.696    -61.612      0.000   -2396.410   -2248.639\n",
      "cat__clarity_IF    1525.9802     43.397     35.163      0.000    1440.920    1611.040\n",
      "cat__clarity_SI1    264.5829     36.550      7.239      0.000     192.943     336.223\n",
      "cat__clarity_SI2   -463.7582     37.157    -12.481      0.000    -536.586    -390.930\n",
      "cat__clarity_VS1   1021.9088     37.411     27.316      0.000     948.582    1095.236\n",
      "cat__clarity_VS2    734.1706     36.658     20.028      0.000     662.320     806.021\n",
      "cat__clarity_VVS1  1369.1289     39.494     34.667      0.000    1291.720    1446.538\n",
      "cat__clarity_VVS2  1380.0644     38.399     35.940      0.000    1304.800    1455.329\n",
      "cat__color_E       -343.7555     15.942    -21.563      0.000    -375.002    -312.509\n",
      "cat__color_F       -411.6647     16.221    -25.378      0.000    -443.459    -379.870\n",
      "cat__color_G       -524.7141     15.871    -33.062      0.000    -555.821    -493.607\n",
      "cat__color_H       -856.0657     17.008    -50.335      0.000    -889.401    -822.730\n",
      "cat__color_I      -1229.0516     19.408    -63.327      0.000   -1267.092   -1191.011\n",
      "cat__color_J      -1825.1661     24.565    -74.301      0.000   -1873.314   -1777.019\n",
      "==============================================================================\n",
      "Omnibus:                     6150.061   Durbin-Watson:                   1.999\n",
      "Prob(Omnibus):                  0.000   Jarque-Bera (JB):            56321.000\n",
      "Skew:                           0.562   Prob(JB):                         0.00\n",
      "Kurtosis:                       9.049   Cond. No.                         29.1\n",
      "==============================================================================\n",
      "\n",
      "Notes:\n",
      "[1] R² is computed without centering (uncentered) since the model does not contain a constant.\n",
      "[2] Standard Errors assume that the covariance matrix of the errors is correctly specified.\n"
     ]
    }
   ],
   "source": [
    "mod = OLS(y_train, X_train_t)\n",
    "res_lr = mod.fit()\n",
    "print(res_lr.summary())"
   ]
  },
  {
   "cell_type": "markdown",
   "id": "c6113a48",
   "metadata": {},
   "source": [
    "## Lasso "
   ]
  },
  {
   "cell_type": "code",
   "execution_count": 52,
   "id": "a8f89283",
   "metadata": {},
   "outputs": [
    {
     "name": "stdout",
     "output_type": "stream",
     "text": [
      "                                 OLS Regression Results                                \n",
      "=======================================================================================\n",
      "Dep. Variable:                  price   R-squared (uncentered):                   0.957\n",
      "Model:                            OLS   Adj. R-squared (uncentered):              0.957\n",
      "Method:                 Least Squares   F-statistic:                          5.666e+04\n",
      "Date:                Fri, 12 Jan 2024   Prob (F-statistic):                        0.00\n",
      "Time:                        16:35:55   Log-Likelihood:                     -2.9187e+05\n",
      "No. Observations:               35708   AIC:                                  5.838e+05\n",
      "Df Residuals:                   35694   BIC:                                  5.839e+05\n",
      "Df Model:                          14                                                  \n",
      "Covariance Type:            nonrobust                                                  \n",
      "=====================================================================================\n",
      "                        coef    std err          t      P>|t|      [0.025      0.975]\n",
      "-------------------------------------------------------------------------------------\n",
      "num__carat         7529.8472     13.389    562.411      0.000    7503.605    7556.089\n",
      "cat__cut_Good     -2063.1230     20.332   -101.472      0.000   -2102.974   -2023.272\n",
      "cat__cut_Ideal    -1837.0691     13.478   -136.296      0.000   -1863.487   -1810.651\n",
      "cat__cut_Premium  -1937.4832     15.211   -127.378      0.000   -1967.296   -1907.670\n",
      "cat__cut_VeryGood -1924.8216     15.416   -124.860      0.000   -1955.037   -1894.606\n",
      "cat__clarity_IF     732.1800     26.511     27.618      0.000     680.217     784.143\n",
      "cat__clarity_SI1   -411.4411     13.087    -31.440      0.000    -437.091    -385.791\n",
      "cat__clarity_SI2  -1133.7236     15.106    -75.049      0.000   -1163.333   -1104.115\n",
      "cat__clarity_VS1    294.2343     14.786     19.900      0.000     265.253     323.215\n",
      "cat__clarity_VS2           0          0        nan        nan           0           0\n",
      "cat__clarity_VVS1   614.6571     19.387     31.705      0.000     576.658     652.656\n",
      "cat__clarity_VVS2   643.7655     17.201     37.426      0.000     610.051     677.480\n",
      "cat__color_E               0          0        nan        nan           0           0\n",
      "cat__color_F               0          0        nan        nan           0           0\n",
      "cat__color_G               0          0        nan        nan           0           0\n",
      "cat__color_H       -496.8579     13.010    -38.189      0.000    -522.359    -471.357\n",
      "cat__color_I       -863.6406     16.025    -53.893      0.000    -895.050    -832.231\n",
      "cat__color_J      -1452.0461     22.140    -65.584      0.000   -1495.442   -1408.650\n",
      "==============================================================================\n",
      "Omnibus:                     5902.783   Durbin-Watson:                   1.998\n",
      "Prob(Omnibus):                  0.000   Jarque-Bera (JB):            69119.006\n",
      "Skew:                           0.435   Prob(JB):                         0.00\n",
      "Kurtosis:                       9.760   Cond. No.                         29.1\n",
      "==============================================================================\n",
      "\n",
      "Notes:\n",
      "[1] R² is computed without centering (uncentered) since the model does not contain a constant.\n",
      "[2] Standard Errors assume that the covariance matrix of the errors is correctly specified.\n"
     ]
    }
   ],
   "source": [
    "mod = OLS(y_train, X_train_t)\n",
    "res_l1 = mod.fit_regularized(alpha=3, L1_wt=1, refit=True)\n",
    "print(res_l1.summary())"
   ]
  },
  {
   "cell_type": "markdown",
   "id": "8e38a705",
   "metadata": {},
   "source": [
    "## Quantile regression"
   ]
  },
  {
   "cell_type": "code",
   "execution_count": 53,
   "id": "3fe69c6b",
   "metadata": {},
   "outputs": [
    {
     "name": "stdout",
     "output_type": "stream",
     "text": [
      "                         QuantReg Regression Results                          \n",
      "==============================================================================\n",
      "Dep. Variable:                  price   Pseudo R-squared:               0.7067\n",
      "Model:                       QuantReg   Bandwidth:                       56.35\n",
      "Method:                 Least Squares   Sparsity:                        913.6\n",
      "Date:                Fri, 12 Jan 2024   No. Observations:                35708\n",
      "Time:                        16:36:02   Df Residuals:                    35690\n",
      "                                        Df Model:                           18\n",
      "=====================================================================================\n",
      "                        coef    std err          t      P>|t|      [0.025      0.975]\n",
      "-------------------------------------------------------------------------------------\n",
      "num__carat         6403.0303      5.512   1161.644      0.000    6392.227    6413.834\n",
      "cat__cut_Good     -2939.6061     27.068   -108.602      0.000   -2992.659   -2886.553\n",
      "cat__cut_Ideal    -2808.7576     26.232   -107.075      0.000   -2860.172   -2757.343\n",
      "cat__cut_Premium  -2856.8485     26.354   -108.402      0.000   -2908.503   -2805.194\n",
      "cat__cut_VeryGood -2869.1212     26.485   -108.329      0.000   -2921.033   -2817.209\n",
      "cat__clarity_IF    1947.4545     28.463     68.421      0.000    1891.667    2003.242\n",
      "cat__clarity_SI1   1117.2121     26.015     42.945      0.000    1066.222    1168.202\n",
      "cat__clarity_SI2    701.2424     26.192     26.773      0.000     649.906     752.579\n",
      "cat__clarity_VS1   1510.6061     26.319     57.396      0.000    1459.020    1562.192\n",
      "cat__clarity_VS2   1372.5455     26.060     52.668      0.000    1321.467    1423.624\n",
      "cat__clarity_VVS1  1796.6364     27.027     66.477      0.000    1743.663    1849.609\n",
      "cat__clarity_VVS2  1713.8485     26.650     64.309      0.000    1661.613    1766.083\n",
      "cat__color_E       -142.5455      8.185    -17.415      0.000    -158.588    -126.502\n",
      "cat__color_F       -234.1212      8.315    -28.156      0.000    -250.419    -217.823\n",
      "cat__color_G       -305.6970      8.138    -37.563      0.000    -321.648    -289.746\n",
      "cat__color_H       -417.4545      8.606    -48.507      0.000    -434.323    -400.587\n",
      "cat__color_I       -734.2424      9.712    -75.600      0.000    -753.279    -715.206\n",
      "cat__color_J      -1121.4119     12.148    -92.312      0.000   -1145.223   -1097.601\n",
      "=====================================================================================\n"
     ]
    }
   ],
   "source": [
    "mod = QuantReg(y_train, X_train_t)\n",
    "res_qr = mod.fit(q=0.3, max_iter=10000)\n",
    "print(res_qr.summary())"
   ]
  },
  {
   "cell_type": "markdown",
   "id": "9eeaba52",
   "metadata": {},
   "source": [
    "## Gradient Boosting Regressor"
   ]
  },
  {
   "cell_type": "code",
   "execution_count": 54,
   "id": "79098449",
   "metadata": {},
   "outputs": [],
   "source": [
    "# GradientBoostingRegressor\n",
    "mod = GradientBoostingRegressor()\n",
    "res_gb = mod.fit(X_train_t, y_train.iloc[:, 0])"
   ]
  },
  {
   "cell_type": "markdown",
   "id": "a8ebd06c",
   "metadata": {},
   "source": [
    "## Metrics"
   ]
  },
  {
   "cell_type": "code",
   "execution_count": 55,
   "id": "5ad4cd64",
   "metadata": {},
   "outputs": [],
   "source": [
    "def _evaluate_model(X_train: pd.DataFrame,\n",
    "                    X_test: pd.DataFrame,\n",
    "                    y_train: pd.DataFrame,\n",
    "                    y_test: pd.DataFrame,\n",
    "                    model\n",
    "                   ):\n",
    "    \"\"\"\n",
    "    Get several metrics for regression model in train and test sets\n",
    "    \"\"\"\n",
    "    \n",
    "    metrics_train = _get_metrics(y_train, X_train, model)\n",
    "    metrics_test = _get_metrics(y_test, X_test, model)\n",
    "    \n",
    "    print(\"metrics_train\")    \n",
    "    print(metrics_train)\n",
    "    print(\"metrics_test\")    \n",
    "    print(metrics_test)\n",
    "    \n",
    "    return metrics_train, metrics_test\n",
    "\n",
    "def _get_metrics(y_true: pd.DataFrame,\n",
    "                 X: pd.DataFrame,\n",
    "                 model\n",
    "                ):\n",
    "    \"\"\"\n",
    "    Get several metrics for regression model\n",
    "    \"\"\"\n",
    "    y_pred = model.predict(X)\n",
    "    \n",
    "    r2_score_ = r2_score(y_true, y_pred)\n",
    "    r2_score_adjust_ = r2_score_adjust(y_true, X, model)\n",
    "    mse_ = mean_squared_error(y_true, y_pred)\n",
    "    mae_ = mean_absolute_error(y_true, y_pred)\n",
    "    mape_ = mean_absolute_percentage_error(y_true, y_pred)\n",
    "    mdape_ = median_absolute_percentage_error(y_true, y_pred)\n",
    "    \n",
    "    metrics = {'MSE': mse_,\n",
    "               'MAE': mae_,\n",
    "               'MAPE': mape_,\n",
    "               'MDAPE': mdape_,\n",
    "               'R2': r2_score_,\n",
    "               'R2_adjust': r2_score_adjust_\n",
    "              }\n",
    "    return metrics\n",
    "\n",
    "def r2_score_adjust(y_true: pd.DataFrame,\n",
    "                    X: pd.DataFrame,\n",
    "                    model\n",
    "                   ):\n",
    "    \"\"\"\n",
    "    Calculate R2 adjust\n",
    "    \"\"\"\n",
    "    n = X.shape[0]\n",
    "    p = X.shape[1]\n",
    "    y_pred = model.predict(X)\n",
    "    r2_score_ = r2_score(y_true, y_pred)    \n",
    "    return 1-(1-r2_score_)*(n-1)/(n-p-1)\n",
    "\n",
    "def median_absolute_percentage_error(y_true: pd.DataFrame,\n",
    "                                     y_pred\n",
    "                                    ):\n",
    "    \"\"\"\n",
    "    Calculate Median Absolute Percentage Error (MdAPE)\n",
    "    \"\"\"\n",
    "    return np.median(np.abs((y_true.iloc[:, 0] - y_pred)/y_true.iloc[:, 0]))"
   ]
  },
  {
   "cell_type": "markdown",
   "id": "2427b599",
   "metadata": {},
   "source": [
    "### Linear regression metrics"
   ]
  },
  {
   "cell_type": "code",
   "execution_count": 56,
   "id": "287f3b4a",
   "metadata": {},
   "outputs": [
    {
     "name": "stdout",
     "output_type": "stream",
     "text": [
      "metrics_train\n",
      "{'MSE': 708300.7148546939, 'MAE': 577.0385902687775, 'MAPE': 0.3374994632230919, 'MDAPE': 0.1968971442094661, 'R2': 0.9057643024382095, 'R2_adjust': 0.9057167739965016}\n",
      "metrics_test\n",
      "{'MSE': 745744.2962577849, 'MAE': 583.621418043232, 'MAPE': 0.3280674970695717, 'MDAPE': 0.19596519712984772, 'R2': 0.903005118005073, 'R2_adjust': 0.9028582055281369}\n"
     ]
    }
   ],
   "source": [
    "metrics_lr = _evaluate_model(X_train_t, X_test_t, y_train, y_test, res_lr)"
   ]
  },
  {
   "cell_type": "markdown",
   "id": "ea82cc51",
   "metadata": {},
   "source": [
    "### Lasso metrics"
   ]
  },
  {
   "cell_type": "code",
   "execution_count": 57,
   "id": "a8ead5da",
   "metadata": {},
   "outputs": [
    {
     "name": "stdout",
     "output_type": "stream",
     "text": [
      "metrics_train\n",
      "{'MSE': 736576.2186145514, 'MAE': 580.9753952316855, 'MAPE': 0.33476798149899595, 'MDAPE': 0.1918785693429622, 'R2': 0.9020023948686713, 'R2_adjust': 0.9019529690822283}\n",
      "metrics_test\n",
      "{'MSE': 772165.2166682428, 'MAE': 586.0750177701091, 'MAPE': 0.325820502714163, 'MDAPE': 0.19035314586133073, 'R2': 0.899568693388392, 'R2_adjust': 0.8994165759600001}\n"
     ]
    }
   ],
   "source": [
    "metrics_l1 = _evaluate_model(X_train_t, X_test_t, y_train, y_test, res_l1)"
   ]
  },
  {
   "cell_type": "markdown",
   "id": "ad487ed8",
   "metadata": {},
   "source": [
    "### Quantile regression metrics"
   ]
  },
  {
   "cell_type": "code",
   "execution_count": 58,
   "id": "153aebfd",
   "metadata": {},
   "outputs": [
    {
     "name": "stdout",
     "output_type": "stream",
     "text": [
      "metrics_train\n",
      "{'MSE': 1083149.1597688873, 'MAE': 584.9051300262654, 'MAPE': 0.2616080888802138, 'MDAPE': 0.13847149580383486, 'R2': 0.8558926816059644, 'R2_adjust': 0.8558200000589585}\n",
      "metrics_test\n",
      "{'MSE': 1148213.5754251292, 'MAE': 601.1071702040938, 'MAPE': 0.2548473003574396, 'MDAPE': 0.13643203889031408, 'R2': 0.8506581400458535, 'R2_adjust': 0.8504319406618772}\n"
     ]
    }
   ],
   "source": [
    "metrics_qr = _evaluate_model(X_train_t, X_test_t, y_train, y_test, res_qr)"
   ]
  },
  {
   "cell_type": "markdown",
   "id": "4f11a57c",
   "metadata": {},
   "source": [
    "### Gradient boosting regressor metrics"
   ]
  },
  {
   "cell_type": "code",
   "execution_count": 59,
   "id": "868870c3",
   "metadata": {},
   "outputs": [
    {
     "name": "stdout",
     "output_type": "stream",
     "text": [
      "metrics_train\n",
      "{'MSE': 321428.1600022846, 'MAE': 310.51245721745073, 'MAPE': 0.1202445241933882, 'MDAPE': 0.08410768930894033, 'R2': 0.9572356680735075, 'R2_adjust': 0.9572140995797229}\n",
      "metrics_test\n",
      "{'MSE': 342958.2797545718, 'MAE': 319.82773740347403, 'MAPE': 0.12058522017069294, 'MDAPE': 0.08489530712192377, 'R2': 0.9553932922572713, 'R2_adjust': 0.9553257290849919}\n"
     ]
    }
   ],
   "source": [
    "metrics_gb = _evaluate_model(X_train_t, X_test_t, y_train, y_test, res_gb)"
   ]
  },
  {
   "cell_type": "markdown",
   "id": "2ca346a4",
   "metadata": {},
   "source": [
    "## Models Conclusion"
   ]
  },
  {
   "cell_type": "markdown",
   "id": "0d1951f7",
   "metadata": {},
   "source": [
    "- Since the metrics for train and test are similar, there are no overfitting problems\n",
    "- Gradient boosting regressor has better metrics than other algorithms, that's why we recommend to use this model to do predictions"
   ]
  },
  {
   "cell_type": "markdown",
   "id": "5784a970",
   "metadata": {},
   "source": [
    "# Geostatistical analysis"
   ]
  },
  {
   "cell_type": "code",
   "execution_count": 60,
   "id": "76c7625a",
   "metadata": {},
   "outputs": [],
   "source": [
    "def _gdf_plot(df: pd.DataFrame,\n",
    "              longitude_feature: str,\n",
    "              latitude_feature: str\n",
    "             ):\n",
    "    \"\"\"\n",
    "    Plot geographical points by longitude and latitude\n",
    "    \"\"\"\n",
    "    gdf = gpd.GeoDataFrame(df, geometry=gpd.points_from_xy(df[longitude_feature], df[latitude_feature]))\n",
    "    world = gpd.read_file(gpd.datasets.get_path('naturalearth_lowres'))\n",
    "    world.plot()\n",
    "    gdf.plot(ax=plt.gca(), marker='o', markersize=10, color='red')\n",
    "    plt.show()"
   ]
  },
  {
   "cell_type": "code",
   "execution_count": 63,
   "id": "2bc3529b",
   "metadata": {},
   "outputs": [
    {
     "name": "stderr",
     "output_type": "stream",
     "text": [
      "<ipython-input-60-27139277d512>:9: FutureWarning: The geopandas.dataset module is deprecated and will be removed in GeoPandas 1.0. You can get the original 'naturalearth_lowres' data from https://www.naturalearthdata.com/downloads/110m-cultural-vectors/.\n",
      "  world = gpd.read_file(gpd.datasets.get_path('naturalearth_lowres'))\n"
     ]
    },
    {
     "data": {
      "image/png": "[encoded data removed]",
      "text/plain": [
       "<Figure size 2160x576 with 1 Axes>"
      ]
     },
     "metadata": {},
     "output_type": "display_data"
    }
   ],
   "source": [
    "plt.rcParams[\"figure.figsize\"] = (30, 8)\n",
    "_gdf_plot(df, 'longitude', 'latitude')"
   ]
  },
  {
   "cell_type": "markdown",
   "id": "89a38531",
   "metadata": {},
   "source": [
    "It seems like there are several places to take advantage of diamonds market"
   ]
  },
  {
   "cell_type": "code",
   "execution_count": null,
   "id": "0d969b4d",
   "metadata": {},
   "outputs": [],
   "source": []
  },
  {
   "cell_type": "code",
   "execution_count": null,
   "id": "c96542aa",
   "metadata": {},
   "outputs": [],
   "source": []
  },
  {
   "cell_type": "code",
   "execution_count": null,
   "id": "1ebfbea0",
   "metadata": {},
   "outputs": [],
   "source": []
  }
 ],
 "metadata": {
  "kernelspec": {
   "display_name": "Python 3",
   "language": "python",
   "name": "python3"
  },
  "language_info": {
   "codemirror_mode": {
    "name": "ipython",
    "version": 3
   },
   "file_extension": ".py",
   "mimetype": "text/x-python",
   "name": "python",
   "nbconvert_exporter": "python",
   "pygments_lexer": "ipython3",
   "version": "3.8.3"
  }
 },
 "nbformat": 4,
 "nbformat_minor": 5
}
