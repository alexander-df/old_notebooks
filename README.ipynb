{
 "cells": [
  {
   "cell_type": "markdown",
   "id": "1eaabb4c-f8b7-4f79-afb6-6d740fe9da1d",
   "metadata": {},
   "source": [
    "Import libraries and define some settings 👇"
   ]
  },
  {
   "cell_type": "code",
   "execution_count": null,
   "id": "6c00880b-7be6-4f8f-a7f6-093561c6f438",
   "metadata": {},
   "outputs": [],
   "source": [
    "import sys\n",
    "sys.path.append(\"../\")\n",
    "from utils.commons import *\n",
    "import logging\n",
    "logging.basicConfig(level=logging.DEBUG) \n",
    "\n",
    "pd.set_option('display.max_rows', 10000)\n",
    "pd.set_option('display.max_columns', 5000)\n",
    "pd.set_option('display.width', 10000)"
   ]
  },
  {
   "cell_type": "markdown",
   "id": "f57399a6-36e4-418d-aa83-e862e97ac956",
   "metadata": {},
   "source": [
    "Create some functions 👇"
   ]
  },
  {
   "cell_type": "code",
   "execution_count": null,
   "id": "0e62ea50-cd36-4c3f-852a-6605befcb55b",
   "metadata": {},
   "outputs": [],
   "source": [
    "import logging\n",
    "def _check_duplicates(df, group_columns):\n",
    "    logging.debug(\"1. Checking drop duplicates query\")\n",
    "    if len(df) == len(df.drop_duplicates(subset=group_columns)):\n",
    "        logging.debug(\"1. Drop duplicates passed\")\n",
    "    else:\n",
    "        logging.warning(\"There are some duplicates.\")\n",
    "        duplicates_example = (df\n",
    "                              .groupby(group_columns)\n",
    "                              .agg(counts=(group_columns[0], 'count'))\n",
    "                              .sort_values(by=['counts'], ascending=False)\n",
    "                              .head()\n",
    "                              )\n",
    "        return duplicates_example"
   ]
  },
  {
   "cell_type": "code",
   "execution_count": null,
   "id": "51312381-cbf6-4750-b335-deab3013a2d3",
   "metadata": {},
   "outputs": [],
   "source": [
    "df = pd.read_csv(\"../data/FILE.csv\")"
   ]
  },
  {
   "cell_type": "code",
   "execution_count": null,
   "id": "f54c044f-2bac-45c9-920f-4b09b95b2ad4",
   "metadata": {},
   "outputs": [],
   "source": [
    "group_columns = ['Email']\n",
    "df.drop_duplicates(subset=group_columns).shape"
   ]
  },
  {
   "cell_type": "markdown",
   "id": "07dd89f6-04cb-4fcd-814c-7a72b8fafec3",
   "metadata": {},
   "source": [
    "Normalize column names 👇"
   ]
  },
  {
   "cell_type": "code",
   "execution_count": null,
   "id": "6f81ada0-2cb0-4611-a519-972837757442",
   "metadata": {},
   "outputs": [],
   "source": [
    "df = _normalize_column_names(df)"
   ]
  },
  {
   "cell_type": "markdown",
   "id": "ec88ca42-5da6-48bf-b4ff-0460c5812002",
   "metadata": {},
   "source": [
    "Cast to date 👇"
   ]
  },
  {
   "cell_type": "code",
   "execution_count": null,
   "id": "c6074d6f-b027-44ad-8b30-3dbc1d7e25ed",
   "metadata": {},
   "outputs": [],
   "source": [
    "date_columns = [column for column in df.columns if re.search(\"date\", column)] + ['date_var_with_other_name', 'date_var_with_other_name2']\n",
    "df = _cast_columns_to_date(df, date_columns, format=\"%m/%d/%Y\")"
   ]
  },
  {
   "cell_type": "markdown",
   "id": "33e9a4bb-6e0b-455d-8268-e203290cdc79",
   "metadata": {},
   "source": [
    "Let's check it out 👇"
   ]
  },
  {
   "cell_type": "code",
   "execution_count": null,
   "id": "81343f3c-2c9b-4f64-a8ca-cc4e20890b96",
   "metadata": {},
   "outputs": [],
   "source": [
    "df_last = _get_last_register(df, ['email'], 'some_date_column')\n",
    "print(df_last.shape)"
   ]
  },
  {
   "cell_type": "code",
   "execution_count": null,
   "id": "910fc415-7373-43ec-8b1d-10331c6e0fed",
   "metadata": {},
   "outputs": [],
   "source": [
    "df['home_office_country'] = [_get_country_from_city(city) for city in df.home_office]"
   ]
  },
  {
   "cell_type": "code",
   "execution_count": null,
   "id": "721ee4c1-d45e-4fec-9292-1daeee4c0d1d",
   "metadata": {},
   "outputs": [],
   "source": [
    "group_columns = ['id', 'date']\n",
    "_check_duplicates(df, group_columns)"
   ]
  },
  {
   "cell_type": "markdown",
   "id": "417cc7ea-d16d-4ae0-9039-286b0b70e2a8",
   "metadata": {},
   "source": [
    "## EDA"
   ]
  },
  {
   "cell_type": "code",
   "execution_count": null,
   "id": "7d4d8200-743f-4faf-b194-e2c7288baafb",
   "metadata": {},
   "outputs": [],
   "source": [
    "numerical_features = list([col for col in df.select_dtypes(['float64', 'int64']).columns])\n",
    "categorical_features = list([col for col in df.select_dtypes('object').columns])"
   ]
  },
  {
   "cell_type": "code",
   "execution_count": null,
   "id": "1d858e2c-b248-4e29-8567-5350e2cfc7b9",
   "metadata": {},
   "outputs": [],
   "source": [
    "_numerical_eda(df, numerical_features)\n",
    "_categorical_eda(df, categorical_features)"
   ]
  },
  {
   "cell_type": "markdown",
   "id": "1ff9fad2-d7d1-423f-9b41-c2feee49de9a",
   "metadata": {},
   "source": [
    "## JOINS"
   ]
  },
  {
   "cell_type": "code",
   "execution_count": null,
   "id": "ad2394b1-dd8a-4f96-95fd-9924c9591303",
   "metadata": {},
   "outputs": [],
   "source": [
    "data = pd.merge(users, demographics_df, on='id', how='left')\n",
    "data = pd.merge(data, logins_df, on='id', how='left')\n",
    "data = pd.merge(data, logins_pivot, on='id', how='left')\n",
    "data = pd.merge(data, trx_df, on='id', how='left')\n",
    "data = pd.merge(data, trx_pivot, on='id', how='left')"
   ]
  },
  {
   "cell_type": "markdown",
   "id": "372b51f9-1900-4805-a015-82b470e2838a",
   "metadata": {},
   "source": [
    "## MISSING VALUES"
   ]
  },
  {
   "cell_type": "code",
   "execution_count": null,
   "id": "fd790f45-662e-4534-b625-033e703b8755",
   "metadata": {},
   "outputs": [],
   "source": [
    "data['DEMO_IngresoSueldos'].fillna(value=0, inplace=True)\n",
    "na_cat_columns = ['DEMO_EstadoCivil', 'DEMO_NivelEstudios', 'DEMO_SituacionLaboral']\n",
    "data = df.dropna(subset=na_cat_columns)"
   ]
  },
  {
   "cell_type": "markdown",
   "id": "4b919b16-2312-4951-85b7-20b9aa1ad7eb",
   "metadata": {},
   "source": [
    "## PLOTS"
   ]
  },
  {
   "cell_type": "code",
   "execution_count": null,
   "id": "3df6681d-d991-423f-9152-3d6be99ab5fb",
   "metadata": {},
   "outputs": [],
   "source": [
    "def _plt_histogram(df: pd.DataFrame,\n",
    "                   features: List[str]\n",
    "                  ):\n",
    "    \"\"\"\n",
    "    Plot a histogram for every numerical column in features argument\n",
    "    \"\"\"\n",
    "    df[features].hist(figsize=(10, 8))\n",
    "    plt.tight_layout()\n",
    "    plt.show()\n",
    "    \n",
    "def _plt_boxplot(df: pd.DataFrame,\n",
    "                 features: List[str]\n",
    "                ):\n",
    "    \"\"\"\n",
    "    Plot a boxplot for every numerical column in features argument\n",
    "    \"\"\"\n",
    "    k = _plt_boxplot_grid(features)\n",
    "    plt.figure(figsize=(10, k*10))\n",
    "    \n",
    "    props_dict = {'linewidth': 2,\n",
    "                  'color': '#2773B2'\n",
    "                 }\n",
    "    \n",
    "    for n, ticker in enumerate(features):\n",
    "        ax = plt.subplot(k*3, 3, n + 1)\n",
    "\n",
    "        df[[ticker]].boxplot(boxprops=props_dict,\n",
    "                             medianprops=props_dict,\n",
    "                             whiskerprops=props_dict,\n",
    "                             capprops=props_dict\n",
    "                            )\n",
    "    plt.tight_layout()\n",
    "    plt.show()\n",
    "\n",
    "def _plt_boxplot_grid(features):    \n",
    "    return math.ceil(len(features)/3)"
   ]
  },
  {
   "cell_type": "code",
   "execution_count": null,
   "id": "a57e3cb9-0576-468d-b2d8-48d085eb82f3",
   "metadata": {},
   "outputs": [],
   "source": [
    "_plt_histogram(df, numerical_features)\n",
    "_plt_boxplot(df, numerical_features)"
   ]
  },
  {
   "cell_type": "markdown",
   "id": "39c3e4a5-5d8d-4340-ba04-8e94e8a1cf23",
   "metadata": {},
   "source": [
    "## OUTLIERS"
   ]
  },
  {
   "cell_type": "code",
   "execution_count": null,
   "id": "d8ca5acc-be6c-49a5-8dd1-4c4504a9ddd1",
   "metadata": {},
   "outputs": [],
   "source": [
    "df_out = _label_outliers(df, numerical_features)\n",
    "_query = \"outlier_DEMO_Edad == False and outlier_DEMO_IngresoSueldos == False and outlier_LOGINS_login_count == False and outlier_TRX_monto_sum == False and outlier_TRX_monto_mean == False and outlier_TRX_trx_count == False\"\n",
    "df_no_outliers = df_out.query(_query)"
   ]
  },
  {
   "cell_type": "markdown",
   "id": "d795f03e-0605-4261-8f5e-63a5741a79bb",
   "metadata": {},
   "source": [
    "## CORR"
   ]
  },
  {
   "cell_type": "code",
   "execution_count": null,
   "id": "1bdf45f8-45dc-42b6-9e67-98a638aaf75c",
   "metadata": {},
   "outputs": [],
   "source": [
    "corr_matrix = df[numerical_features].corr()\n",
    "corr_matrix"
   ]
  }
 ],
 "metadata": {
  "kernelspec": {
   "display_name": "Python 3 (ipykernel)",
   "language": "python",
   "name": "python3"
  },
  "language_info": {
   "codemirror_mode": {
    "name": "ipython",
    "version": 3
   },
   "file_extension": ".py",
   "mimetype": "text/x-python",
   "name": "python",
   "nbconvert_exporter": "python",
   "pygments_lexer": "ipython3",
   "version": "3.12.4"
  }
 },
 "nbformat": 4,
 "nbformat_minor": 5
}
